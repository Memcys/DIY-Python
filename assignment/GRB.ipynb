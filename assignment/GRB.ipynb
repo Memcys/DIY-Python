{
 "cells": [
  {
   "cell_type": "markdown",
   "metadata": {},
   "source": [
    "Reference:\n",
    "- Xu, H., & Ma, B.-Q. (2018). Regularity of high energy photon events from gamma ray bursts. Journal of Cosmology and Astroparticle Physics, 2018(01), 050–050. https://doi.org/10.1088/1475-7516/2018/01/050, http://arxiv.org/abs/1801.08084\n",
    "- The following data are almost those in Table 2 of the above reference"
   ]
  },
  {
   "cell_type": "code",
   "execution_count": 1,
   "metadata": {},
   "outputs": [],
   "source": [
    "import pandas as pd"
   ]
  },
  {
   "cell_type": "code",
   "execution_count": 15,
   "metadata": {},
   "outputs": [
    {
     "output_type": "execute_result",
     "data": {
      "text/plain": "      NAME     ENERGY       z      DTobs\n0   160509  51.898190  1.1700  62.586492\n1   131231  48.294994  0.6420  87.249321\n2   130427  77.106880  0.3399  18.100193\n3   130427  38.671497  0.3399  77.852691\n4   100414  29.802996  1.3680  33.080479\n5   090926  19.459948  2.1071  20.518428\n6   090902  14.219388  1.8220   4.398592\n7   090902  18.112429  1.8220  16.400120\n8   090902  15.398657  1.8220  35.839794\n9   090902  39.881584  1.8220  71.978390\n10  090510  29.914782  0.9030   0.860229\n11  080916  12.421474  4.3500  10.560575\n12  080916  27.428806  4.3500  34.524910",
      "text/html": "<div>\n<style scoped>\n    .dataframe tbody tr th:only-of-type {\n        vertical-align: middle;\n    }\n\n    .dataframe tbody tr th {\n        vertical-align: top;\n    }\n\n    .dataframe thead th {\n        text-align: right;\n    }\n</style>\n<table border=\"1\" class=\"dataframe\">\n  <thead>\n    <tr style=\"text-align: right;\">\n      <th></th>\n      <th>NAME</th>\n      <th>ENERGY</th>\n      <th>z</th>\n      <th>DTobs</th>\n    </tr>\n  </thead>\n  <tbody>\n    <tr>\n      <th>0</th>\n      <td>160509</td>\n      <td>51.898190</td>\n      <td>1.1700</td>\n      <td>62.586492</td>\n    </tr>\n    <tr>\n      <th>1</th>\n      <td>131231</td>\n      <td>48.294994</td>\n      <td>0.6420</td>\n      <td>87.249321</td>\n    </tr>\n    <tr>\n      <th>2</th>\n      <td>130427</td>\n      <td>77.106880</td>\n      <td>0.3399</td>\n      <td>18.100193</td>\n    </tr>\n    <tr>\n      <th>3</th>\n      <td>130427</td>\n      <td>38.671497</td>\n      <td>0.3399</td>\n      <td>77.852691</td>\n    </tr>\n    <tr>\n      <th>4</th>\n      <td>100414</td>\n      <td>29.802996</td>\n      <td>1.3680</td>\n      <td>33.080479</td>\n    </tr>\n    <tr>\n      <th>5</th>\n      <td>090926</td>\n      <td>19.459948</td>\n      <td>2.1071</td>\n      <td>20.518428</td>\n    </tr>\n    <tr>\n      <th>6</th>\n      <td>090902</td>\n      <td>14.219388</td>\n      <td>1.8220</td>\n      <td>4.398592</td>\n    </tr>\n    <tr>\n      <th>7</th>\n      <td>090902</td>\n      <td>18.112429</td>\n      <td>1.8220</td>\n      <td>16.400120</td>\n    </tr>\n    <tr>\n      <th>8</th>\n      <td>090902</td>\n      <td>15.398657</td>\n      <td>1.8220</td>\n      <td>35.839794</td>\n    </tr>\n    <tr>\n      <th>9</th>\n      <td>090902</td>\n      <td>39.881584</td>\n      <td>1.8220</td>\n      <td>71.978390</td>\n    </tr>\n    <tr>\n      <th>10</th>\n      <td>090510</td>\n      <td>29.914782</td>\n      <td>0.9030</td>\n      <td>0.860229</td>\n    </tr>\n    <tr>\n      <th>11</th>\n      <td>080916</td>\n      <td>12.421474</td>\n      <td>4.3500</td>\n      <td>10.560575</td>\n    </tr>\n    <tr>\n      <th>12</th>\n      <td>080916</td>\n      <td>27.428806</td>\n      <td>4.3500</td>\n      <td>34.524910</td>\n    </tr>\n  </tbody>\n</table>\n</div>"
     },
     "metadata": {},
     "execution_count": 15
    }
   ],
   "source": [
    "fname = '../data/Fermi-GRBs.h5'\n",
    "df = pd.read_hdf(fname, key='GRB')"
   ]
  },
  {
   "cell_type": "markdown",
   "metadata": {},
   "source": [
    "Data in `ENERGY` are observed energy in GeV, and data in `DTobs` are observed time lag in second."
   ]
  },
  {
   "cell_type": "markdown",
   "metadata": {},
   "source": [
    "Tasks\n",
    "=====\n",
    "1. Produce a table similar with Table 2 in the above reference.\n",
    "2. Produce the $\\Delta t_\\text{obs} / (1 + z)$-$\\kappa$ plot. See Figure 3(d) in the above reference.\n",
    "3. (Optional) Produce the $T$-$E_\\text{LV}$ plot. See Figure 3(c) in the above reference. Note that $T$ is *similar* to but **different** from $S$."
   ]
  },
  {
   "cell_type": "markdown",
   "metadata": {},
   "source": [
    "Formulas that might be helpful\n",
    "------------------------------\n",
    "\n",
    "\\begin{align}\n",
    "E_\\text{in} = (1 + z)E_\\text{obs}, \\\\\n",
    "\\Delta t_\\text{LV} = (1 + z) \\frac{\\kappa}{E_\\text{LV}}, \\\\\n",
    "\\kappa = s \\frac{E_\\text{obs}}{H_0} \\frac{1}{1 + z} \\int_0^z \\frac{(1 + z') \\mathrm{d}z'}{\\sqrt{\\Omega_\\text{m} (1 + z')^3 + \\Omega_\\Lambda}}.\n",
    "\\end{align}\n",
    "\n",
    "(Optional)\n",
    "\n",
    "Test function modified from $S$ function in the reference:\n",
    "\\begin{equation}\n",
    "    T_\\rho = \\frac{\\sum_{i=1}^{N-\\rho} \\log[\\bar{t}_\\rho / (t_{i+\\rho} - t_i)]}{N - \\rho},\n",
    "\\end{equation}\n",
    "\\begin{equation}\n",
    "    \\bar{t}_\\rho = \\frac{\\sum_{i=1}^{N-\\rho} (t_{t+\\rho} - t_i)}{N - \\rho}.\n",
    "\\end{equation}\n",
    "$\\bar{t}_\\rho$ is the average of all $t_{i+\\rho} - t_{i}$, where $t_i = \\Delta t_{\\text{in}, i}$ and $t_i$'s have been sorted ascendingly so that $t_{i+\\rho} - t_i > 0$.\n",
    "$$\n",
    "\\Delta t_\\text{in} = \\frac{\\Delta t_\\text{obs}}{1 + z} - \\frac{\\kappa}{E_\\text{LV}}.\n",
    "$$\n",
    "\n",
    "Power Law:\n",
    "$$\n",
    "\\frac{\\mathrm{d}N}{\\mathrm{d}E} \\propto \\left( \\frac{E}{E_\\text{ref}} \\right)^{- \\alpha},\n",
    "$$\n",
    "where $\\alpha \\approx 1.81$ and $E_\\text{ref} = 1 \\text{GeV}$.\n"
   ]
  }
 ],
 "metadata": {
  "language_info": {
   "codemirror_mode": {
    "name": "ipython",
    "version": 3
   },
   "file_extension": ".py",
   "mimetype": "text/x-python",
   "name": "python",
   "nbconvert_exporter": "python",
   "pygments_lexer": "ipython3",
   "version": "3.8.3-final"
  },
  "orig_nbformat": 2,
  "kernelspec": {
   "name": "python38364bitb790c22c1a684c1eac40ecab49941293",
   "display_name": "Python 3.8.3 64-bit"
  }
 },
 "nbformat": 4,
 "nbformat_minor": 2
}