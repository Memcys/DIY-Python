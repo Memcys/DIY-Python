{
 "cells": [
  {
   "cell_type": "markdown",
   "metadata": {},
   "source": [
    "Reference:\n",
    "- Xu, H., & Ma, B.-Q. (2018). Regularity of high energy photon events from gamma ray bursts. Journal of Cosmology and Astroparticle Physics, 2018(01), 050–050. https://doi.org/10.1088/1475-7516/2018/01/050, http://arxiv.org/abs/1801.08084\n",
    "- The following data are almost those in Table 2 of the above reference"
   ]
  },
  {
   "cell_type": "code",
   "execution_count": 1,
   "metadata": {},
   "outputs": [],
   "source": [
    "import pandas as pd"
   ]
  },
  {
   "cell_type": "code",
   "execution_count": 2,
   "metadata": {},
   "outputs": [],
   "source": [
    "try:\n",
    "    fname = '../data/Fermi-GRBs.h5'\n",
    "    df = pd.read_hdf(fname, key='GRB')\n",
    "except ValueError:\n",
    "    # for Python < 3.8\n",
    "    fname = '../data/Fermi-GRBs-protocol-4.h5'\n",
    "    df = pd.read_hdf(fname, key='GRB')"
   ]
  },
  {
   "cell_type": "markdown",
   "metadata": {},
   "source": [
    "Data in `ENERGY` are observed energy in GeV, and data in `DTobs` are observed time lag in second."
   ]
  },
  {
   "cell_type": "markdown",
   "metadata": {},
   "source": [
    "Tasks\n",
    "=====\n",
    "1. Produce a table similar with Table 2 in the above reference.\n",
    "2. Produce the $\\Delta t_\\text{obs} / (1 + z)$-$\\kappa$ plot. See Figure 3(d) in the above reference.\n",
    "3. (Optional) Produce the $T$-$E_\\text{LV}$ plot. See Figure 3(c) in the above reference. Note that $T$ is *similar* to but **different** from $S$."
   ]
  },
  {
   "cell_type": "markdown",
   "metadata": {},
   "source": [
    "Formulas that might be helpful\n",
    "------------------------------\n",
    "\n",
    "\\begin{align}\n",
    "E_\\text{in} = (1 + z)E_\\text{obs}, \\\\\n",
    "\\kappa = s \\frac{E_\\text{obs}}{H_0} \\frac{1}{1 + z} \\int_0^z \\frac{(1 + z') \\mathrm{d}z'}{\\sqrt{\\Omega_\\text{m} (1 + z')^3 + \\Omega_\\Lambda}}.\n",
    "\\end{align}\n",
    "\n",
    "(Optional)\n",
    "\n",
    "Test function modified from $S$ function in the reference:\n",
    "\\begin{equation}\n",
    "    T_\\rho = \\frac{\\sum_{i=1}^{N-\\rho} \\log[\\bar{t}_\\rho / (t_{i+\\rho} - t_i)]}{N - \\rho},\n",
    "\\end{equation}\n",
    "\\begin{equation}\n",
    "    \\bar{t}_\\rho = \\frac{\\sum_{i=1}^{N-\\rho} (t_{t+\\rho} - t_i)}{N - \\rho}.\n",
    "\\end{equation}\n",
    "$\\bar{t}_\\rho$ is the average of all $t_{i+\\rho} - t_{i}$, where $t_i = \\Delta t_{\\text{in}, i}$ and $t_i$'s have been sorted ascendingly so that $t_{i+\\rho} - t_i > 0$.\n",
    "\\begin{align}\n",
    "\\Delta t_\\text{in} = \\frac{\\Delta t_\\text{obs}}{1 + z} - \\frac{\\kappa}{E_\\text{LV}}, \\\\\n",
    "\\Delta t_\\text{LV} = (1 + z) \\frac{\\kappa}{E_\\text{LV}}.\n",
    "\\end{align}\n",
    "\n",
    "Power Law:\n",
    "$$\n",
    "\\frac{\\mathrm{d}N}{\\mathrm{d}E} \\propto \\left( \\frac{E}{E_\\text{ref}} \\right)^{- \\alpha},\n",
    "$$\n",
    "where $\\alpha \\approx 1.81$ and $E_\\text{ref} = 1 \\text{GeV}$.\n"
   ]
  },
  {
   "cell_type": "code",
   "execution_count": null,
   "metadata": {},
   "outputs": [],
   "source": []
  }
 ],
 "metadata": {
  "kernelspec": {
   "display_name": "Python 3.8.3 64-bit",
   "language": "python",
   "name": "python38364bitb790c22c1a684c1eac40ecab49941293"
  },
  "language_info": {
   "codemirror_mode": {
    "name": "ipython",
    "version": 3
   },
   "file_extension": ".py",
   "mimetype": "text/x-python",
   "name": "python",
   "nbconvert_exporter": "python",
   "pygments_lexer": "ipython3",
   "version": "3.8.3"
  }
 },
 "nbformat": 4,
 "nbformat_minor": 4
}
