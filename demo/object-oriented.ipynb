{
 "cells": [
  {
   "cell_type": "markdown",
   "metadata": {},
   "source": [
    "# Object-Oriented Programming in Python\n",
    "参考 [Python class 说明文档](https://docs.python.org/3/tutorial/classes.html)。\n",
    "\n",
    "- **命名空间 (namespace)** 是*映射*：对象 (object) $\\mapsto$ 名称\n",
    "- **作用域 (scope)**是命名空间可以直接访问的文本区域\n",
    "- **属性 (attribute)** 是指 `.` 后的名称"
   ]
  },
  {
   "cell_type": "code",
   "execution_count": 18,
   "metadata": {},
   "outputs": [
    {
     "data": {
      "text/plain": [
       "complex"
      ]
     },
     "execution_count": 18,
     "metadata": {},
     "output_type": "execute_result"
    }
   ],
   "source": [
    "z = 1 + 2j\n",
    "type(z)"
   ]
  },
  {
   "cell_type": "code",
   "execution_count": 19,
   "metadata": {},
   "outputs": [
    {
     "name": "stdout",
     "output_type": "stream",
     "text": [
      "z = (1+2j)\n",
      "z.real = 1.0\n",
      "z.imag = 2.0\n",
      "z.conjugate() = (1-2j)\n",
      "abs(z) = 2.23606797749979\n"
     ]
    }
   ],
   "source": [
    "print(f'{z = }')\n",
    "print(f'{z.real = }')\n",
    "print(f'{z.imag = }')\n",
    "print(f'{z.conjugate() = }')\n",
    "print(f'{abs(z) = }')"
   ]
  },
  {
   "cell_type": "code",
   "execution_count": 2,
   "metadata": {},
   "outputs": [
    {
     "data": {
      "text/plain": [
       "['__abs__',\n",
       " '__add__',\n",
       " '__bool__',\n",
       " '__class__',\n",
       " '__delattr__',\n",
       " '__dir__',\n",
       " '__divmod__',\n",
       " '__doc__',\n",
       " '__eq__',\n",
       " '__float__',\n",
       " '__floordiv__',\n",
       " '__format__',\n",
       " '__ge__',\n",
       " '__getattribute__',\n",
       " '__getnewargs__',\n",
       " '__gt__',\n",
       " '__hash__',\n",
       " '__init__',\n",
       " '__init_subclass__',\n",
       " '__int__',\n",
       " '__le__',\n",
       " '__lt__',\n",
       " '__mod__',\n",
       " '__mul__',\n",
       " '__ne__',\n",
       " '__neg__',\n",
       " '__new__',\n",
       " '__pos__',\n",
       " '__pow__',\n",
       " '__radd__',\n",
       " '__rdivmod__',\n",
       " '__reduce__',\n",
       " '__reduce_ex__',\n",
       " '__repr__',\n",
       " '__rfloordiv__',\n",
       " '__rmod__',\n",
       " '__rmul__',\n",
       " '__rpow__',\n",
       " '__rsub__',\n",
       " '__rtruediv__',\n",
       " '__setattr__',\n",
       " '__sizeof__',\n",
       " '__str__',\n",
       " '__sub__',\n",
       " '__subclasshook__',\n",
       " '__truediv__',\n",
       " 'conjugate',\n",
       " 'imag',\n",
       " 'real']"
      ]
     },
     "execution_count": 2,
     "metadata": {},
     "output_type": "execute_result"
    }
   ],
   "source": [
    "dir(z)"
   ]
  },
  {
   "cell_type": "markdown",
   "metadata": {},
   "source": [
    "### [作用域和命名空间示例](https://docs.python.org/3/tutorial/classes.html#scopes-and-namespaces-example)"
   ]
  },
  {
   "cell_type": "code",
   "execution_count": 3,
   "metadata": {},
   "outputs": [
    {
     "name": "stdout",
     "output_type": "stream",
     "text": [
      "After local assignment:\t\t test spam\n",
      "After nonlocal assignment:\t nonlocal spam\n",
      "After global assignment:\t nonlocal spam\n",
      "In global scope:\t\t global spam\n"
     ]
    }
   ],
   "source": [
    "def scope_test():\n",
    "    def do_local():\n",
    "        spam = \"local spam\"\n",
    "\n",
    "    def do_nonlocal():\n",
    "        nonlocal spam\n",
    "        spam = \"nonlocal spam\"\n",
    "\n",
    "    def do_global():\n",
    "        global spam\n",
    "        spam = \"global spam\"\n",
    "\n",
    "    spam = \"test spam\"\n",
    "    do_local()\n",
    "    print(\"After local assignment:\\t\\t\", spam)\n",
    "    do_nonlocal()\n",
    "    print(\"After nonlocal assignment:\\t\", spam)\n",
    "    do_global()\n",
    "    print(\"After global assignment:\\t\", spam)\n",
    "\n",
    "scope_test()\n",
    "print(\"In global scope:\\t\\t\", spam)"
   ]
  },
  {
   "cell_type": "markdown",
   "metadata": {},
   "source": [
    "## 类 (class)\n",
    "一个可能最简单的示例："
   ]
  },
  {
   "cell_type": "code",
   "execution_count": 22,
   "metadata": {},
   "outputs": [
    {
     "name": "stdout",
     "output_type": "stream",
     "text": [
      "a.name = 'A', a.id = 0, a.position = ['p1', 'p2']\n"
     ]
    }
   ],
   "source": [
    "class Simplest():\n",
    "    pass\n",
    "\n",
    "a = Simplest()\n",
    "a.name = 'A'\n",
    "a.id = 0\n",
    "a.position = ['p1', 'p2']\n",
    "\n",
    "print(f'{a.name = }, {a.id = }, {a.position = }')"
   ]
  },
  {
   "cell_type": "markdown",
   "metadata": {},
   "source": [
    "### 类的建立"
   ]
  },
  {
   "cell_type": "code",
   "execution_count": 5,
   "metadata": {},
   "outputs": [],
   "source": [
    "class Complex:\n",
    "    def __init__(self, realpart, imagpart):\n",
    "        self.r = float(realpart)\n",
    "        self.i = float(imagpart)\n",
    "\n",
    "    def __repr__(self):\n",
    "        return f'{self.r}{self.i:+f}j'#.format(sign='+' if self.i >= 0 else '')\n",
    "\n",
    "    def modulus(self):\n",
    "        m = (self.r ** 2 + self.i ** 2) ** 0.5\n",
    "        return m\n",
    "\n",
    "    def conjugate(self):\n",
    "        return Complex(self.r, -self.i)"
   ]
  },
  {
   "cell_type": "markdown",
   "metadata": {},
   "source": [
    "### 类的实例 (instance)"
   ]
  },
  {
   "cell_type": "code",
   "execution_count": 20,
   "metadata": {},
   "outputs": [
    {
     "data": {
      "text/plain": [
       "__main__.Complex"
      ]
     },
     "execution_count": 20,
     "metadata": {},
     "output_type": "execute_result"
    }
   ],
   "source": [
    "c = Complex(1, 2)\n",
    "type(c)"
   ]
  },
  {
   "cell_type": "code",
   "execution_count": 21,
   "metadata": {},
   "outputs": [
    {
     "name": "stdout",
     "output_type": "stream",
     "text": [
      "c = 1.0+2.000000j\n",
      "c.r = 1.0\n",
      "c.i = 2.0\n",
      "c.modulus() = 2.23606797749979\n",
      "c.conjugate() = 1.0-2.000000j\n"
     ]
    }
   ],
   "source": [
    "print(f'{c = }')\n",
    "print(f'{c.r = }')\n",
    "print(f'{c.i = }')\n",
    "print(f'{c.modulus() = }')\n",
    "print(f'{c.conjugate() = }')"
   ]
  },
  {
   "cell_type": "code",
   "execution_count": 8,
   "metadata": {},
   "outputs": [
    {
     "data": {
      "text/plain": [
       "'new'"
      ]
     },
     "execution_count": 8,
     "metadata": {},
     "output_type": "execute_result"
    }
   ],
   "source": [
    "c.newattr = 'new'\n",
    "c.newattr"
   ]
  },
  {
   "cell_type": "code",
   "execution_count": 9,
   "metadata": {},
   "outputs": [
    {
     "name": "stdout",
     "output_type": "stream",
     "text": [
      "'Complex' object has no attribute 'newattr'\n"
     ]
    }
   ],
   "source": [
    "c2 = Complex(1, 2)\n",
    "try:\n",
    "    c2.newattr\n",
    "except Exception as e:\n",
    "    print(e)"
   ]
  },
  {
   "cell_type": "code",
   "execution_count": 10,
   "metadata": {},
   "outputs": [],
   "source": [
    "class Dog:\n",
    "\n",
    "    kind = 'canine'         # class variable shared by all instances\n",
    "\n",
    "    def __init__(self, name):\n",
    "        self.name = name    # instance variable unique to each instance"
   ]
  },
  {
   "cell_type": "code",
   "execution_count": 11,
   "metadata": {},
   "outputs": [
    {
     "name": "stdout",
     "output_type": "stream",
     "text": [
      "a.kind = 'canine', b.kind = 'canine'\n",
      "a.name = 'Fido', b.name = 'Buddy'\n"
     ]
    }
   ],
   "source": [
    "a = Dog('Fido')\n",
    "b = Dog('Buddy')\n",
    "print(f'{a.kind = }, {b.kind = }')\n",
    "print(f'{a.name = }, {b.name = }')"
   ]
  },
  {
   "cell_type": "code",
   "execution_count": 12,
   "metadata": {},
   "outputs": [
    {
     "name": "stdout",
     "output_type": "stream",
     "text": [
      "a.kind = 'New Kind', b.kind = 'canine'\n"
     ]
    }
   ],
   "source": [
    "a.kind = 'New Kind'\n",
    "print(f'{a.kind = }, {b.kind = }')"
   ]
  },
  {
   "cell_type": "markdown",
   "metadata": {},
   "source": [
    "**Note**:\n",
    "\n",
    "As discussed in [A Word About Names and Objects](https://docs.python.org/3/tutorial/classes.html#tut-object), shared data can have possibly surprising effects with involving [mutable](https://docs.python.org/3/glossary.html#term-mutable) objects such as lists and dictionaries.\n",
    "\n",
    "See the example in https://docs.python.org/3/tutorial/classes.html#class-and-instance-variables."
   ]
  },
  {
   "cell_type": "markdown",
   "metadata": {},
   "source": [
    "## 类的继承 (Inheritance)"
   ]
  },
  {
   "cell_type": "code",
   "execution_count": 16,
   "metadata": {},
   "outputs": [],
   "source": [
    "from astropy import constants as const\n",
    "\n",
    "class BaseC:\n",
    "    c = const.c\n",
    "\n",
    "class BaseH:\n",
    "    hbar = const.hbar\n",
    "\n",
    "class Child(BaseC, BaseH):\n",
    "    def __init__(self):\n",
    "        print(BaseC.c)\n",
    "        print('\\n')\n",
    "        print(BaseH.hbar)"
   ]
  },
  {
   "cell_type": "code",
   "execution_count": 17,
   "metadata": {},
   "outputs": [
    {
     "name": "stdout",
     "output_type": "stream",
     "text": [
      "  Name   = Speed of light in vacuum\n",
      "  Value  = 299792458.0\n",
      "  Uncertainty  = 0.0\n",
      "  Unit  = m / s\n",
      "  Reference = CODATA 2018\n",
      "\n",
      "\n",
      "  Name   = Reduced Planck constant\n",
      "  Value  = 1.0545718176461565e-34\n",
      "  Uncertainty  = 0.0\n",
      "  Unit  = J s\n",
      "  Reference = CODATA 2018\n"
     ]
    }
   ],
   "source": [
    "c = Child()"
   ]
  },
  {
   "cell_type": "code",
   "execution_count": 24,
   "metadata": {},
   "outputs": [
    {
     "name": "stderr",
     "output_type": "stream",
     "text": [
      "UsageError: Line magic function `%tree` not found.\n"
     ]
    }
   ],
   "source": []
  },
  {
   "cell_type": "code",
   "execution_count": null,
   "metadata": {},
   "outputs": [],
   "source": []
  }
 ],
 "metadata": {
  "jupytext": {
   "cell_metadata_filter": "-all",
   "encoding": "# -*- coding: utf-8 -*-",
   "formats": "py,ipynb"
  },
  "kernelspec": {
   "display_name": "Python 3.8.3 64-bit",
   "language": "python",
   "name": "python38364bita14c50cabb94433e97ec307454e1294b"
  },
  "language_info": {
   "codemirror_mode": {
    "name": "ipython",
    "version": 3
   },
   "file_extension": ".py",
   "mimetype": "text/x-python",
   "name": "python",
   "nbconvert_exporter": "python",
   "pygments_lexer": "ipython3",
   "version": "3.8.3"
  }
 },
 "nbformat": 4,
 "nbformat_minor": 4
}
