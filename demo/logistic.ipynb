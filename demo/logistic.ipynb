{
 "cells": [
  {
   "cell_type": "markdown",
   "metadata": {},
   "source": [
    "# Logistic Model\n",
    "$$\n",
    "x_{n+1} = ax_n (1 - x_n), \\qquad (0 \\le x \\le 1, a \\in (0, 4))\n",
    "$$"
   ]
  },
  {
   "cell_type": "code",
   "execution_count": null,
   "metadata": {},
   "outputs": [],
   "source": [
    "import numpy as np\n",
    "import matplotlib.pyplot as plt\n",
    "import logging"
   ]
  },
  {
   "cell_type": "code",
   "execution_count": null,
   "metadata": {},
   "outputs": [],
   "source": [
    "logging.getLogger().setLevel(logging.INFO)"
   ]
  },
  {
   "cell_type": "code",
   "execution_count": null,
   "metadata": {},
   "outputs": [],
   "source": [
    "plt.style.available"
   ]
  },
  {
   "cell_type": "code",
   "execution_count": null,
   "metadata": {
    "lines_to_next_cell": 1
   },
   "outputs": [],
   "source": [
    "plt.rcParams['text.usetex'] = False\n",
    "# plt.style.use('default')\n",
    "plt.style.use(['seaborn-darkgrid', 'seaborn-notebook'])"
   ]
  },
  {
   "cell_type": "markdown",
   "metadata": {},
   "source": [
    "The logistic model\n",
    "$$\n",
    "x_{n+1} = ax_n (1 - x_n) \\qquad (x_n \\in (0, 1))\n",
    "$$\n",
    "with $0 \\le a \\le 4$."
   ]
  },
  {
   "cell_type": "code",
   "execution_count": null,
   "metadata": {},
   "outputs": [],
   "source": [
    "def logistic(a: np.ndarray, x: np.ndarray):\n",
    "    '''Return the matrix multiplication of ax(1-x)'''\n",
    "    return np.multiply(np.multiply(a, x), (1 - x))"
   ]
  },
  {
   "cell_type": "markdown",
   "metadata": {},
   "source": [
    "## Calculation"
   ]
  },
  {
   "cell_type": "markdown",
   "metadata": {},
   "source": [
    "### For the step plot"
   ]
  },
  {
   "cell_type": "code",
   "execution_count": null,
   "metadata": {},
   "outputs": [],
   "source": [
    "# Logistic\n",
    "# Error tolerence\n",
    "err_tol = 1e-4\n",
    "# Parameters\n",
    "a = float(input(\"请输入参数 a (0<a<4, default to 2.707):\") or 2.707)\n",
    "# Initial value of x0\n",
    "initX = float(input(\"请输入参数 x0 (0<=x0<=1, default to 0.1):\") or 0.1)"
   ]
  },
  {
   "cell_type": "code",
   "execution_count": null,
   "metadata": {},
   "outputs": [],
   "source": [
    "# The function lines\n",
    "x = np.linspace(0, 1)\n",
    "y1 = logistic(a, x)\n",
    "y2 = x"
   ]
  },
  {
   "cell_type": "code",
   "execution_count": null,
   "metadata": {},
   "outputs": [],
   "source": [
    "# The step lines\n",
    "stepX = [initX, logistic(a, initX)]"
   ]
  },
  {
   "cell_type": "code",
   "execution_count": null,
   "metadata": {},
   "outputs": [],
   "source": [
    "while np.abs(stepX[-1] - stepX[-2]) >= err_tol:\n",
    "    stepX.append(logistic(a, stepX[-1]))"
   ]
  },
  {
   "cell_type": "markdown",
   "metadata": {},
   "source": [
    "### For the Feigenbaum plot"
   ]
  },
  {
   "cell_type": "code",
   "execution_count": null,
   "metadata": {},
   "outputs": [],
   "source": [
    "# Error tolerence\n",
    "err_tol = 1e-6\n",
    "numa = 1000\n",
    "alist = np.linspace(2.6, 4, num=numa)\n",
    "initX = 0.6"
   ]
  },
  {
   "cell_type": "code",
   "execution_count": null,
   "metadata": {},
   "outputs": [],
   "source": [
    "# The step lines\n",
    "Xn = initX\n",
    "Dict = {}"
   ]
  },
  {
   "cell_type": "code",
   "execution_count": null,
   "metadata": {},
   "outputs": [],
   "source": [
    "for a in alist:\n",
    "    Xn = np.append(initX, [logistic(a, initX)])\n",
    "    \n",
    "    while np.abs(Xn[-2] - Xn[-1]) >= err_tol:\n",
    "        new = logistic(a, Xn[-1])\n",
    "        \n",
    "        if (np.abs(new - Xn) < err_tol).any():\n",
    "            i, = np.where(np.abs(new - Xn) < err_tol)\n",
    "            i = np.array(i)[0]\n",
    "            break\n",
    "        else:\n",
    "            Xn = np.append(Xn, new)\n",
    "    Dict[a] = Xn[i:]"
   ]
  },
  {
   "cell_type": "markdown",
   "metadata": {},
   "source": [
    "## Plotting"
   ]
  },
  {
   "cell_type": "code",
   "execution_count": null,
   "metadata": {},
   "outputs": [],
   "source": [
    "# The Logistic plot\n",
    "fig, ax = plt.subplots(tight_layout=True)\n",
    "\n",
    "ax.annotate(\"$a = {}, \\qquad x_0 = {}$\".format(a, initX), xy=(0.5, 0.8), xycoords='figure fraction', horizontalalignment='center', verticalalignment='top',)\n",
    "\n",
    "ax.plot(x, y1)\n",
    "ax.plot(x, y2)\n",
    "ax.step(stepX[:-1], stepX[1:], where='post', alpha=0.5,)\n",
    "ax.plot(stepX[:-1], stepX[1:], 'C2o', alpha=0.37, markersize=5)\n",
    "plt.title('Ligistic iteration steps')"
   ]
  },
  {
   "cell_type": "code",
   "execution_count": null,
   "metadata": {
    "lines_to_next_cell": 2
   },
   "outputs": [],
   "source": [
    "# # Save the plot\n",
    "# try:\n",
    "#     fig.savefig(\"../image/logistic.png\")\n",
    "# except Exception as e:\n",
    "#     logging.error(e)"
   ]
  },
  {
   "cell_type": "code",
   "execution_count": null,
   "metadata": {},
   "outputs": [],
   "source": [
    "# The Feigenbaum plot\n",
    "aPlot = [a for a, data in zip(Dict, Dict.values()) for j in data]\n",
    "yPlot = [val for data in Dict.values() for val in data]"
   ]
  },
  {
   "cell_type": "code",
   "execution_count": null,
   "metadata": {},
   "outputs": [],
   "source": [
    "fig2, ax2 = plt.subplots(tight_layout=True)\n",
    "\n",
    "ax2.scatter(aPlot, yPlot, marker='.', s=1)\n",
    "plt.xlabel(r'$a$')\n",
    "plt.ylabel(r'$x$')\n",
    "plt.title('Feigenbaum plot')"
   ]
  },
  {
   "cell_type": "code",
   "execution_count": null,
   "metadata": {},
   "outputs": [],
   "source": [
    "# # Save and show the plot\n",
    "# try:\n",
    "#     fig2.savefig(\"../image/feigenbaum.png\")\n",
    "# except Exception as e:\n",
    "#     logging.error(e)"
   ]
  }
 ],
 "metadata": {
  "interpreter": {
   "hash": "645cc1cd4858f46ca561b4a82a2c98ca5cb4389f28395da566fd826ad4a99f75"
  },
  "jupytext": {
   "cell_metadata_filter": "-all",
   "encoding": "# -*- coding: utf-8 -*-",
   "formats": "py:light,ipynb"
  },
  "kernelspec": {
   "display_name": "Python 3.10.4 ('diy-python')",
   "language": "python",
   "name": "python3"
  },
  "language_info": {
   "codemirror_mode": {
    "name": "ipython",
    "version": 3
   },
   "file_extension": ".py",
   "mimetype": "text/x-python",
   "name": "python",
   "nbconvert_exporter": "python",
   "pygments_lexer": "ipython3",
   "version": "3.10.4"
  }
 },
 "nbformat": 4,
 "nbformat_minor": 4
}
