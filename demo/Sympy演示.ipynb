{
 "cells": [
  {
   "cell_type": "markdown",
   "metadata": {},
   "source": [
    "首先导入 sympy 包"
   ]
  },
  {
   "cell_type": "code",
   "execution_count": 1,
   "metadata": {},
   "outputs": [],
   "source": [
    "import sympy"
   ]
  },
  {
   "cell_type": "markdown",
   "metadata": {},
   "source": [
    "设置打印环境，以顺利输出符号"
   ]
  },
  {
   "cell_type": "code",
   "execution_count": 2,
   "metadata": {},
   "outputs": [],
   "source": [
    "sympy.init_printing()"
   ]
  },
  {
   "cell_type": "markdown",
   "metadata": {},
   "source": [
    "比较常用的符号(虚数单位 $\\mathrm i$, 圆周率 $\\pi$ 和无穷 $\\infty$)"
   ]
  },
  {
   "cell_type": "code",
   "execution_count": 3,
   "metadata": {},
   "outputs": [],
   "source": [
    "from sympy import I, pi, oo"
   ]
  },
  {
   "cell_type": "code",
   "execution_count": 4,
   "metadata": {},
   "outputs": [
    {
     "data": {
      "image/png": "[encoded data removed]",
      "text/latex": [
       "$\\displaystyle \\left( \\pi, \\  \\infty, \\  i\\right)$"
      ],
      "text/plain": [
       "(π, ∞, ⅈ)"
      ]
     },
     "execution_count": 4,
     "metadata": {},
     "output_type": "execute_result"
    }
   ],
   "source": [
    "pi,oo,I"
   ]
  },
  {
   "cell_type": "markdown",
   "metadata": {},
   "source": [
    "一些演示"
   ]
  },
  {
   "cell_type": "code",
   "execution_count": 5,
   "metadata": {},
   "outputs": [
    {
     "data": {
      "image/png": "[encoded data removed]",
      "text/latex": [
       "$\\displaystyle i$"
      ],
      "text/plain": [
       "ⅈ"
      ]
     },
     "execution_count": 5,
     "metadata": {},
     "output_type": "execute_result"
    }
   ],
   "source": [
    "I"
   ]
  },
  {
   "cell_type": "code",
   "execution_count": 6,
   "metadata": {},
   "outputs": [
    {
     "data": {
      "image/png": "[encoded data removed]",
      "text/latex": [
       "$\\displaystyle \\pi$"
      ],
      "text/plain": [
       "π"
      ]
     },
     "execution_count": 6,
     "metadata": {},
     "output_type": "execute_result"
    }
   ],
   "source": [
    "pi"
   ]
  },
  {
   "cell_type": "code",
   "execution_count": 7,
   "metadata": {},
   "outputs": [
    {
     "data": {
      "image/png": "[encoded data removed]",
      "text/latex": [
       "$\\displaystyle \\infty$"
      ],
      "text/plain": [
       "∞"
      ]
     },
     "execution_count": 7,
     "metadata": {},
     "output_type": "execute_result"
    }
   ],
   "source": [
    "oo"
   ]
  },
  {
   "cell_type": "code",
   "execution_count": 8,
   "metadata": {},
   "outputs": [
    {
     "name": "stdout",
     "output_type": "stream",
     "text": [
      "oo\n"
     ]
    }
   ],
   "source": [
    "print(oo)"
   ]
  },
  {
   "cell_type": "markdown",
   "metadata": {},
   "source": [
    "# 1.形式符号的定义"
   ]
  },
  {
   "cell_type": "code",
   "execution_count": 9,
   "metadata": {},
   "outputs": [
    {
     "name": "stdout",
     "output_type": "stream",
     "text": [
      "name 'x' is not defined\n"
     ]
    }
   ],
   "source": [
    "try:\n",
    "    x\n",
    "    print(x)\n",
    "except Exception as e:\n",
    "    print(e)"
   ]
  },
  {
   "cell_type": "markdown",
   "metadata": {},
   "source": [
    "创建一个名为 x 的形式符号"
   ]
  },
  {
   "cell_type": "code",
   "execution_count": 10,
   "metadata": {},
   "outputs": [],
   "source": [
    "x = sympy.Symbol(\"x\")"
   ]
  },
  {
   "cell_type": "code",
   "execution_count": 11,
   "metadata": {},
   "outputs": [
    {
     "data": {
      "image/png": "[encoded data removed]",
      "text/latex": [
       "$\\displaystyle x$"
      ],
      "text/plain": [
       "x"
      ]
     },
     "execution_count": 11,
     "metadata": {},
     "output_type": "execute_result"
    }
   ],
   "source": [
    "x"
   ]
  },
  {
   "cell_type": "code",
   "execution_count": 12,
   "metadata": {},
   "outputs": [
    {
     "name": "stdout",
     "output_type": "stream",
     "text": [
      "x\n"
     ]
    }
   ],
   "source": [
    "print(x)"
   ]
  },
  {
   "cell_type": "code",
   "execution_count": 13,
   "metadata": {},
   "outputs": [
    {
     "data": {
      "text/plain": [
       "sympy.core.symbol.Symbol"
      ]
     },
     "execution_count": 13,
     "metadata": {},
     "output_type": "execute_result"
    }
   ],
   "source": [
    "type(x)"
   ]
  },
  {
   "cell_type": "markdown",
   "metadata": {},
   "source": [
    "可以用任意字符串来定义一个形式变量. 这里等号左边是这个形式变量的名称，而这个形式变量的内容则是输入的字符串."
   ]
  },
  {
   "cell_type": "code",
   "execution_count": 14,
   "metadata": {},
   "outputs": [],
   "source": [
    "y = sympy.Symbol(\"Jupyternotebook\")"
   ]
  },
  {
   "cell_type": "code",
   "execution_count": 15,
   "metadata": {},
   "outputs": [
    {
     "data": {
      "image/png": "[encoded data removed]",
      "text/latex": [
       "$\\displaystyle Jupyternotebook$"
      ],
      "text/plain": [
       "Jupyternotebook"
      ]
     },
     "execution_count": 15,
     "metadata": {},
     "output_type": "execute_result"
    }
   ],
   "source": [
    "y"
   ]
  },
  {
   "cell_type": "code",
   "execution_count": 16,
   "metadata": {},
   "outputs": [
    {
     "name": "stdout",
     "output_type": "stream",
     "text": [
      "Jupyternotebook\n"
     ]
    }
   ],
   "source": [
    "print(y)"
   ]
  },
  {
   "cell_type": "markdown",
   "metadata": {},
   "source": [
    "字符串可以包含中文，不过似乎字体显示上会遇到一些问题."
   ]
  },
  {
   "cell_type": "code",
   "execution_count": 17,
   "metadata": {},
   "outputs": [],
   "source": [
    "z = sympy.Symbol(\"好\")"
   ]
  },
  {
   "cell_type": "code",
   "execution_count": 18,
   "metadata": {},
   "outputs": [
    {
     "name": "stderr",
     "output_type": "stream",
     "text": [
      "Font 'rm' does not have a glyph for '\\u597d' [U+597d], substituting with a dummy symbol.\n"
     ]
    },
    {
     "data": {
      "image/png": "[encoded data removed]",
      "text/latex": [
       "$\\displaystyle 好$"
      ],
      "text/plain": [
       "好"
      ]
     },
     "execution_count": 18,
     "metadata": {},
     "output_type": "execute_result"
    }
   ],
   "source": [
    "z"
   ]
  },
  {
   "cell_type": "code",
   "execution_count": 19,
   "metadata": {},
   "outputs": [
    {
     "name": "stdout",
     "output_type": "stream",
     "text": [
      "好\n"
     ]
    }
   ],
   "source": [
    "print(z)"
   ]
  },
  {
   "cell_type": "markdown",
   "metadata": {},
   "source": [
    "# 2.设置形式符号的类型"
   ]
  },
  {
   "cell_type": "markdown",
   "metadata": {},
   "source": [
    "形式符号可以作为真实数值的容器. 可以设置这个容器所能容纳的变量类型."
   ]
  },
  {
   "cell_type": "code",
   "execution_count": 20,
   "metadata": {},
   "outputs": [
    {
     "data": {
      "text/plain": [
       "True"
      ]
     },
     "execution_count": 20,
     "metadata": {},
     "output_type": "execute_result"
    }
   ],
   "source": [
    "test  = sympy.Symbol(\"number\",real=True) #指定为实数类型\n",
    "test.is_real"
   ]
  },
  {
   "cell_type": "code",
   "execution_count": 21,
   "metadata": {},
   "outputs": [
    {
     "data": {
      "text/plain": [
       "True"
      ]
     },
     "execution_count": 21,
     "metadata": {},
     "output_type": "execute_result"
    }
   ],
   "source": [
    "x.is_real is None #未明确指定类型的形式变量，其变量类型不确定."
   ]
  },
  {
   "cell_type": "markdown",
   "metadata": {},
   "source": [
    "可选的变量类型"
   ]
  },
  {
   "cell_type": "code",
   "execution_count": 22,
   "metadata": {},
   "outputs": [
    {
     "data": {
      "text/html": [
       "<img src='Sympy演示_1.png'>\n"
      ],
      "text/plain": [
       "<IPython.core.display.HTML object>"
      ]
     },
     "metadata": {},
     "output_type": "display_data"
    }
   ],
   "source": [
    "%%html\n",
    "<img src='Sympy演示_1.png'>"
   ]
  },
  {
   "cell_type": "markdown",
   "metadata": {},
   "source": [
    "# 3.形式符号的数学运算"
   ]
  },
  {
   "cell_type": "markdown",
   "metadata": {},
   "source": [
    "sympy 可以对形式符号进行一些数学运算，并且支持表达式化简功能."
   ]
  },
  {
   "cell_type": "code",
   "execution_count": 23,
   "metadata": {},
   "outputs": [],
   "source": [
    "y = sympy.Symbol(\"zu\")"
   ]
  },
  {
   "cell_type": "code",
   "execution_count": 24,
   "metadata": {},
   "outputs": [
    {
     "data": {
      "image/png": "[encoded data removed]",
      "text/latex": [
       "$\\displaystyle zu^{2}$"
      ],
      "text/plain": [
       "  2\n",
       "zu "
      ]
     },
     "execution_count": 24,
     "metadata": {},
     "output_type": "execute_result"
    }
   ],
   "source": [
    "y**2"
   ]
  },
  {
   "cell_type": "code",
   "execution_count": 25,
   "metadata": {},
   "outputs": [
    {
     "data": {
      "image/png": "[encoded data removed]",
      "text/latex": [
       "$\\displaystyle \\sqrt{zu^{2}}$"
      ],
      "text/plain": [
       "   _____\n",
       "  ╱   2 \n",
       "╲╱  zu  "
      ]
     },
     "execution_count": 25,
     "metadata": {},
     "output_type": "execute_result"
    }
   ],
   "source": [
    "sympy.sqrt(y**2)"
   ]
  },
  {
   "cell_type": "code",
   "execution_count": 26,
   "metadata": {},
   "outputs": [
    {
     "data": {
      "image/png": "[encoded data removed]",
      "text/latex": [
       "$\\displaystyle u$"
      ],
      "text/plain": [
       "u"
      ]
     },
     "execution_count": 26,
     "metadata": {},
     "output_type": "execute_result"
    }
   ],
   "source": [
    "u = sympy.Symbol(\"u\",positive=True)\n",
    "sympy.sqrt(u**2)"
   ]
  },
  {
   "cell_type": "code",
   "execution_count": 27,
   "metadata": {},
   "outputs": [
    {
     "data": {
      "image/png": "[encoded data removed]",
      "text/latex": [
       "$\\displaystyle u$"
      ],
      "text/plain": [
       "u"
      ]
     },
     "execution_count": 27,
     "metadata": {},
     "output_type": "execute_result"
    }
   ],
   "source": [
    "sympy.log(sympy.exp(u)) #对数和指数的化简"
   ]
  },
  {
   "cell_type": "code",
   "execution_count": 28,
   "metadata": {},
   "outputs": [
    {
     "data": {
      "image/png": "[encoded data removed]",
      "text/latex": [
       "$\\displaystyle \\sin{\\left(u \\right)}$"
      ],
      "text/plain": [
       "sin(u)"
      ]
     },
     "execution_count": 28,
     "metadata": {},
     "output_type": "execute_result"
    }
   ],
   "source": [
    "sympy.sin(u + 2*pi) #支持三角恒等式化简"
   ]
  },
  {
   "cell_type": "code",
   "execution_count": 29,
   "metadata": {},
   "outputs": [
    {
     "data": {
      "image/png": "[encoded data removed]",
      "text/latex": [
       "$\\displaystyle 1$"
      ],
      "text/plain": [
       "1"
      ]
     },
     "execution_count": 29,
     "metadata": {},
     "output_type": "execute_result"
    }
   ],
   "source": [
    "n = sympy.Symbol(\"n\",even=True)\n",
    "sympy.cos(n*pi) #由于 n 为偶数类型，因此 cos(n\\pi) = 1"
   ]
  },
  {
   "cell_type": "code",
   "execution_count": 30,
   "metadata": {},
   "outputs": [
    {
     "data": {
      "image/png": "[encoded data removed]",
      "text/latex": [
       "$\\displaystyle \\left(-1\\right)^{m}$"
      ],
      "text/plain": [
       "    m\n",
       "(-1) "
      ]
     },
     "execution_count": 30,
     "metadata": {},
     "output_type": "execute_result"
    }
   ],
   "source": [
    "m = sympy.Symbol(\"m\",integer=True)\n",
    "sympy.cos(m*pi) # m 为整数类型，因此 cos(m\\pi) = (-1)^m."
   ]
  },
  {
   "cell_type": "code",
   "execution_count": 31,
   "metadata": {},
   "outputs": [],
   "source": [
    "t = sympy.Symbol(\"27y\") #用包含数字的字符串来定义形式符号是一个不好的习惯，因为很容易将形式符号中的数字与真正的数值搞混."
   ]
  },
  {
   "cell_type": "code",
   "execution_count": 32,
   "metadata": {},
   "outputs": [
    {
     "data": {
      "image/png": "[encoded data removed]",
      "text/latex": [
       "$\\displaystyle 2 \\cdot 27y$"
      ],
      "text/plain": [
       "2⋅27y"
      ]
     },
     "execution_count": 32,
     "metadata": {},
     "output_type": "execute_result"
    }
   ],
   "source": [
    "2*t #这里的乘号提醒我们 27 是形式符号的一部分，而不是数值变量."
   ]
  },
  {
   "cell_type": "code",
   "execution_count": 33,
   "metadata": {},
   "outputs": [
    {
     "data": {
      "text/markdown": [
       "# 4. 同时创建多个形式变量\n"
      ],
      "text/plain": [
       "<IPython.core.display.Markdown object>"
      ]
     },
     "metadata": {},
     "output_type": "display_data"
    }
   ],
   "source": [
    "%%markdown\n",
    "# 4. 同时创建多个形式变量"
   ]
  },
  {
   "cell_type": "code",
   "execution_count": 34,
   "metadata": {},
   "outputs": [
    {
     "data": {
      "image/png": "[encoded data removed]",
      "text/latex": [
       "$\\displaystyle \\left( A, \\  B, \\  C\\right)$"
      ],
      "text/plain": [
       "(A, B, C)"
      ]
     },
     "execution_count": 34,
     "metadata": {},
     "output_type": "execute_result"
    }
   ],
   "source": [
    "a,b,c = sympy.symbols(\"A,B,C\",positive=True) #多个符号的字符串用逗号分隔.\n",
    "a,b,c"
   ]
  },
  {
   "cell_type": "code",
   "execution_count": 35,
   "metadata": {},
   "outputs": [
    {
     "data": {
      "text/markdown": [
       "# 5. Sympy 中的数值\n"
      ],
      "text/plain": [
       "<IPython.core.display.Markdown object>"
      ]
     },
     "metadata": {},
     "output_type": "display_data"
    }
   ],
   "source": [
    "%%markdown\n",
    "# 5. Sympy 中的数值"
   ]
  },
  {
   "cell_type": "markdown",
   "metadata": {},
   "source": [
    "Sympy 中的数值变量在初始化时就会被赋值，而形式变量在初始化时则并不会赋值，这是二者的一个区别.\n",
    "一般的数字与形式符号进行运算时，会自动被转换为具有正确类型的 sympy 变量."
   ]
  },
  {
   "cell_type": "code",
   "execution_count": 36,
   "metadata": {},
   "outputs": [
    {
     "data": {
      "text/plain": [
       "sympy.core.mul.Mul"
      ]
     },
     "execution_count": 36,
     "metadata": {},
     "output_type": "execute_result"
    }
   ],
   "source": [
    "c = 2*a\n",
    "type(c) #c 是一个乘法表达式."
   ]
  },
  {
   "cell_type": "code",
   "execution_count": 37,
   "metadata": {},
   "outputs": [
    {
     "data": {
      "image/png": "[encoded data removed]",
      "text/latex": [
       "$\\displaystyle A$"
      ],
      "text/plain": [
       "A"
      ]
     },
     "execution_count": 37,
     "metadata": {},
     "output_type": "execute_result"
    }
   ],
   "source": [
    "d = 2*a/2 #表达式化简为 a.\n",
    "type(d)\n",
    "d"
   ]
  },
  {
   "cell_type": "markdown",
   "metadata": {},
   "source": [
    "直接创建数值类型的变量的方法"
   ]
  },
  {
   "cell_type": "code",
   "execution_count": 38,
   "metadata": {},
   "outputs": [
    {
     "data": {
      "image/png": "[encoded data removed]",
      "text/latex": [
       "$\\displaystyle \\left( 20, \\  0.1\\right)$"
      ],
      "text/plain": [
       "(20, 0.1)"
      ]
     },
     "execution_count": 38,
     "metadata": {},
     "output_type": "execute_result"
    }
   ],
   "source": [
    "i = sympy.Integer(20)\n",
    "j = sympy.Float(0.1)\n",
    "i,j"
   ]
  },
  {
   "cell_type": "markdown",
   "metadata": {},
   "source": [
    "也可以输入一个数，让 sympy 自动判定其类型并创建相应的数值变量."
   ]
  },
  {
   "cell_type": "code",
   "execution_count": 39,
   "metadata": {},
   "outputs": [
    {
     "data": {
      "text/plain": [
       "sympy.core.numbers.Integer"
      ]
     },
     "execution_count": 39,
     "metadata": {},
     "output_type": "execute_result"
    }
   ],
   "source": [
    "i = sympy.sympify(2021)\n",
    "type(i)"
   ]
  },
  {
   "cell_type": "code",
   "execution_count": 40,
   "metadata": {},
   "outputs": [
    {
     "data": {
      "image/png": "[encoded data removed]",
      "text/latex": [
       "$\\displaystyle 40420$"
      ],
      "text/plain": [
       "40420"
      ]
     },
     "execution_count": 40,
     "metadata": {},
     "output_type": "execute_result"
    }
   ],
   "source": [
    "i*20 #定义好的数值可以直接参与算术运算. i*20 得到的结果仍为 sympy.core.numbers.Integer 类型"
   ]
  },
  {
   "cell_type": "code",
   "execution_count": 41,
   "metadata": {},
   "outputs": [
    {
     "data": {
      "text/plain": [
       "(sympy.core.numbers.Integer, sympy.core.mul.Mul)"
      ]
     },
     "execution_count": 41,
     "metadata": {},
     "output_type": "execute_result"
    }
   ],
   "source": [
    "type(i*20),type(n*20) #对于形式符号 n，表达式 n*20 是 sympy.core.mul.Mul 类型."
   ]
  },
  {
   "cell_type": "code",
   "execution_count": 42,
   "metadata": {},
   "outputs": [
    {
     "data": {
      "text/plain": [
       "sympy.core.numbers.Float"
      ]
     },
     "execution_count": 42,
     "metadata": {},
     "output_type": "execute_result"
    }
   ],
   "source": [
    "j = sympy.sympify(-0.9)\n",
    "type(j)"
   ]
  },
  {
   "cell_type": "markdown",
   "metadata": {},
   "source": [
    "is_integer 与 is_Integer 有所不同，后者只对于明确以 sympy.Integer 方式定义的数值为 True."
   ]
  },
  {
   "cell_type": "code",
   "execution_count": 43,
   "metadata": {},
   "outputs": [
    {
     "data": {
      "text/plain": [
       "(True, False)"
      ]
     },
     "execution_count": 43,
     "metadata": {},
     "output_type": "execute_result"
    }
   ],
   "source": [
    "n.is_integer,n.is_Integer"
   ]
  },
  {
   "cell_type": "code",
   "execution_count": 44,
   "metadata": {},
   "outputs": [
    {
     "data": {
      "image/png": "[encoded data removed]",
      "text/latex": [
       "$\\displaystyle \\sin{\\left(2021 \\right)}$"
      ],
      "text/plain": [
       "sin(2021)"
      ]
     },
     "execution_count": 44,
     "metadata": {},
     "output_type": "execute_result"
    }
   ],
   "source": [
    "import numpy as np\n",
    "#np.sin(i)\n",
    "sympy.sin(i) # Sympy 中的数值类型不能作为 numpy 函数的输入值."
   ]
  },
  {
   "cell_type": "markdown",
   "metadata": {},
   "source": [
    "sympy 中的一些数学常数"
   ]
  },
  {
   "cell_type": "code",
   "execution_count": 45,
   "metadata": {},
   "outputs": [
    {
     "data": {
      "image/png": "[encoded data removed]",
      "text/latex": [
       "$\\displaystyle \\left( e, \\  \\pi, \\  \\gamma, \\  i, \\  \\infty\\right)$"
      ],
      "text/plain": [
       "(ℯ, π, γ, ⅈ, ∞)"
      ]
     },
     "execution_count": 45,
     "metadata": {},
     "output_type": "execute_result"
    }
   ],
   "source": [
    "sympy.E,sympy.pi,sympy.EulerGamma,sympy.I,sympy.oo"
   ]
  },
  {
   "cell_type": "code",
   "execution_count": 46,
   "metadata": {},
   "outputs": [
    {
     "data": {
      "text/plain": [
       "sympy.core.numbers.Exp1"
      ]
     },
     "execution_count": 46,
     "metadata": {},
     "output_type": "execute_result"
    }
   ],
   "source": [
    "type(sympy.E) #数学常数具有专属的类型."
   ]
  },
  {
   "cell_type": "code",
   "execution_count": 47,
   "metadata": {},
   "outputs": [
    {
     "data": {
      "image/png": "[encoded data removed]",
      "text/latex": [
       "$\\displaystyle 2.72$"
      ],
      "text/plain": [
       "2.72"
      ]
     },
     "execution_count": 47,
     "metadata": {},
     "output_type": "execute_result"
    }
   ],
   "source": [
    "sympy.E.evalf(3) #要显示数学常数的值，可以调用 evalf 方法. evalf 方法所接受的参数为显示的有效数字位数. \n",
    "#这个表达式的结果是一个 sympy.core.numbers.Float 类型的变量，即一个 sympy 数值变量."
   ]
  },
  {
   "cell_type": "code",
   "execution_count": 48,
   "metadata": {},
   "outputs": [
    {
     "data": {
      "text/markdown": [
       "# 6.定义一个函数\n"
      ],
      "text/plain": [
       "<IPython.core.display.Markdown object>"
      ]
     },
     "metadata": {},
     "output_type": "display_data"
    }
   ],
   "source": [
    "%%markdown\n",
    "# 6.定义一个函数"
   ]
  },
  {
   "cell_type": "markdown",
   "metadata": {},
   "source": [
    "定义一个关于形式变量 x,y,z 的函数"
   ]
  },
  {
   "cell_type": "code",
   "execution_count": 49,
   "metadata": {},
   "outputs": [
    {
     "data": {
      "image/png": "[encoded data removed]",
      "text/latex": [
       "$\\displaystyle f{\\left(x,y,z \\right)}$"
      ],
      "text/plain": [
       "f(x, y, z)"
      ]
     },
     "execution_count": 49,
     "metadata": {},
     "output_type": "execute_result"
    }
   ],
   "source": [
    "x,y,z = sympy.symbols(\"x,y,z\")\n",
    "f = sympy.Function(\"f\")(x,y,z) #调用 sympy.Function 模块，创造出一个函数原型，并指定自变量 x,y,z\n",
    "f"
   ]
  },
  {
   "cell_type": "code",
   "execution_count": 50,
   "metadata": {},
   "outputs": [
    {
     "data": {
      "image/png": "[encoded data removed]",
      "text/latex": [
       "$\\displaystyle \\left\\{x, y, z\\right\\}$"
      ],
      "text/plain": [
       "{x, y, z}"
      ]
     },
     "execution_count": 50,
     "metadata": {},
     "output_type": "execute_result"
    }
   ],
   "source": [
    "f.free_symbols # free_symbols 属性给出了函数的自变量."
   ]
  },
  {
   "cell_type": "markdown",
   "metadata": {},
   "source": [
    "要定义函数的具体映射内容，即函数体，需要定义 sympy.Function 的一个子类. 不过 sympy 内置了许多数学函数，一般足够使用. sympy 的数学函数的值域为 sympy 形式符号和数值变量."
   ]
  },
  {
   "cell_type": "code",
   "execution_count": 51,
   "metadata": {},
   "outputs": [
    {
     "data": {
      "image/png": "[encoded data removed]",
      "text/latex": [
       "$\\displaystyle \\left( 0, \\  e\\right)$"
      ],
      "text/plain": [
       "(0, ℯ)"
      ]
     },
     "execution_count": 51,
     "metadata": {},
     "output_type": "execute_result"
    }
   ],
   "source": [
    "sympy.sin(pi),sympy.exp(1) # sympy 内置数学函数的返回值类型为 sympy.core.numbers.xxx 类型."
   ]
  },
  {
   "cell_type": "markdown",
   "metadata": {},
   "source": [
    "除了定义 sympy.Function 的一个子类，一个更加简便的定义数学函数的办法是将一个形式表达式转化为一个函数."
   ]
  },
  {
   "cell_type": "code",
   "execution_count": 52,
   "metadata": {},
   "outputs": [],
   "source": [
    "expr = x * y #关于形式符号 x 和 y 的一个算术表达式\n",
    "expr_func = sympy.lambdify(y,expr) #将表达式变为一个关于自变量 y 的函数"
   ]
  },
  {
   "cell_type": "code",
   "execution_count": 53,
   "metadata": {},
   "outputs": [
    {
     "data": {
      "image/png": "[encoded data removed]",
      "text/latex": [
       "$\\displaystyle x$"
      ],
      "text/plain": [
       "x"
      ]
     },
     "execution_count": 53,
     "metadata": {},
     "output_type": "execute_result"
    }
   ],
   "source": [
    "expr_func(1)"
   ]
  },
  {
   "cell_type": "code",
   "execution_count": 54,
   "metadata": {},
   "outputs": [
    {
     "data": {
      "image/png": "[encoded data removed]",
      "text/latex": [
       "$\\displaystyle 200$"
      ],
      "text/plain": [
       "200"
      ]
     },
     "execution_count": 54,
     "metadata": {},
     "output_type": "execute_result"
    }
   ],
   "source": [
    "expr_function_1 = sympy.lambdify((x,y),expr) #也可以将 expr 变为一个关于 x,y 两个变量的多元函数. \n",
    "expr_function_1(10,20)"
   ]
  },
  {
   "cell_type": "markdown",
   "metadata": {},
   "source": [
    "sympy 数学函数可以接受 numpy 的 array 对象，返回一个(由 sympy 的符号变量和数值变量组成的) array 对象."
   ]
  },
  {
   "cell_type": "code",
   "execution_count": 55,
   "metadata": {},
   "outputs": [
    {
     "data": {
      "text/plain": [
       "(array([x, 2*x, 3*x, 4*x, 5*x], dtype=object), sympy.core.symbol.Symbol)"
      ]
     },
     "execution_count": 55,
     "metadata": {},
     "output_type": "execute_result"
    }
   ],
   "source": [
    "import numpy as np\n",
    "temp = np.array([1,2,3,4,5])\n",
    "expr_func(temp),type(expr_func(temp)[0])"
   ]
  },
  {
   "cell_type": "code",
   "execution_count": 56,
   "metadata": {},
   "outputs": [
    {
     "data": {
      "text/markdown": [
       "# 7.化简表达式\n"
      ],
      "text/plain": [
       "<IPython.core.display.Markdown object>"
      ]
     },
     "metadata": {},
     "output_type": "display_data"
    }
   ],
   "source": [
    "%%markdown\n",
    "# 7.化简表达式"
   ]
  },
  {
   "cell_type": "markdown",
   "metadata": {},
   "source": [
    "除了 sympy 的自动化简功能外，还可以使用 sympy 的 simplify 方法来化简符号表达式."
   ]
  },
  {
   "cell_type": "code",
   "execution_count": 57,
   "metadata": {},
   "outputs": [
    {
     "data": {
      "image/png": "[encoded data removed]",
      "text/latex": [
       "$\\displaystyle \\left( x^{2} + 3 x + 1, \\  x^{2} + 3 x + 1\\right)$"
      ],
      "text/plain": [
       "⎛ 2             2          ⎞\n",
       "⎝x  + 3⋅x + 1, x  + 3⋅x + 1⎠"
      ]
     },
     "execution_count": 57,
     "metadata": {},
     "output_type": "execute_result"
    }
   ],
   "source": [
    "expr = x**2 + 2*x  + x +  1\n",
    "expr,sympy.simplify(expr) #返回一个新的表达式，原表达式保持不变. 这里合并了同类项."
   ]
  },
  {
   "cell_type": "code",
   "execution_count": 58,
   "metadata": {},
   "outputs": [
    {
     "data": {
      "image/png": "[encoded data removed]",
      "text/latex": [
       "$\\displaystyle \\left( \\sin^{2}{\\left(x \\right)} + \\cos^{2}{\\left(x \\right)}, \\  1\\right)$"
      ],
      "text/plain": [
       "⎛   2         2      ⎞\n",
       "⎝sin (x) + cos (x), 1⎠"
      ]
     },
     "execution_count": 58,
     "metadata": {},
     "output_type": "execute_result"
    }
   ],
   "source": [
    "expr = sympy.sin(x)**2 + sympy.cos(x)**2\n",
    "expr,sympy.simplify(expr)"
   ]
  },
  {
   "cell_type": "markdown",
   "metadata": {},
   "source": [
    "sympy.expand 方法可以展开符号表达式"
   ]
  },
  {
   "cell_type": "code",
   "execution_count": 59,
   "metadata": {
    "scrolled": true
   },
   "outputs": [
    {
     "data": {
      "image/png": "[encoded data removed]",
      "text/latex": [
       "$\\displaystyle - \\sin{\\left(x \\right)} \\sin{\\left(y \\right)} \\sin{\\left(z \\right)} + \\sin{\\left(x \\right)} \\cos{\\left(y \\right)} \\cos{\\left(z \\right)} + \\sin{\\left(y \\right)} \\cos{\\left(x \\right)} \\cos{\\left(z \\right)} + \\sin{\\left(z \\right)} \\cos{\\left(x \\right)} \\cos{\\left(y \\right)}$"
      ],
      "text/plain": [
       "-sin(x)⋅sin(y)⋅sin(z) + sin(x)⋅cos(y)⋅cos(z) + sin(y)⋅cos(x)⋅cos(z) + sin(z)⋅c\n",
       "os(x)⋅cos(y)"
      ]
     },
     "execution_count": 59,
     "metadata": {},
     "output_type": "execute_result"
    }
   ],
   "source": [
    "sympy.sin(x+y+z).expand(trig=True) #这里 trig = True 表明是三角函数展开"
   ]
  },
  {
   "cell_type": "code",
   "execution_count": 60,
   "metadata": {},
   "outputs": [
    {
     "data": {
      "image/png": "[encoded data removed]",
      "text/latex": [
       "$\\displaystyle 2 \\log{\\left(a \\right)} + 4 \\log{\\left(b \\right)}$"
      ],
      "text/plain": [
       "2⋅log(a) + 4⋅log(b)"
      ]
     },
     "execution_count": 60,
     "metadata": {},
     "output_type": "execute_result"
    }
   ],
   "source": [
    "a,b = sympy.symbols(\"a,b\",positive=True)\n",
    "sympy.log(a**2*b**4).expand(log=True)"
   ]
  },
  {
   "cell_type": "markdown",
   "metadata": {},
   "source": [
    "sympy.factor 可以对代数表达式进行因式分解."
   ]
  },
  {
   "cell_type": "code",
   "execution_count": 61,
   "metadata": {},
   "outputs": [
    {
     "data": {
      "image/png": "[encoded data removed]",
      "text/latex": [
       "$\\displaystyle \\left(e^{y} + 1\\right) e^{x}$"
      ],
      "text/plain": [
       "⎛ y    ⎞  x\n",
       "⎝ℯ  + 1⎠⋅ℯ "
      ]
     },
     "execution_count": 61,
     "metadata": {},
     "output_type": "execute_result"
    }
   ],
   "source": [
    "expr = sympy.exp(x) + sympy.exp(x)*sympy.exp(y)\n",
    "expr.factor()"
   ]
  },
  {
   "cell_type": "code",
   "execution_count": 62,
   "metadata": {},
   "outputs": [
    {
     "data": {
      "image/png": "[encoded data removed]",
      "text/latex": [
       "$\\displaystyle 16.0 \\left(0.5 x - 1.0\\right) \\left(0.5 x + 1.0\\right) \\left(0.25 x^{2} + 1.0\\right)$"
      ],
      "text/plain": [
       "                                 ⎛      2      ⎞\n",
       "16.0⋅(0.5⋅x - 1.0)⋅(0.5⋅x + 1.0)⋅⎝0.25⋅x  + 1.0⎠"
      ]
     },
     "execution_count": 62,
     "metadata": {},
     "output_type": "execute_result"
    }
   ],
   "source": [
    "expr  = x**4  - 16.0\n",
    "expr.factor()"
   ]
  },
  {
   "cell_type": "code",
   "execution_count": 63,
   "metadata": {},
   "outputs": [
    {
     "data": {
      "text/markdown": [
       "# 8. 变量代换和表达式的赋值\n"
      ],
      "text/plain": [
       "<IPython.core.display.Markdown object>"
      ]
     },
     "metadata": {},
     "output_type": "display_data"
    }
   ],
   "source": [
    "%%markdown \n",
    "# 8. 变量代换和表达式的赋值"
   ]
  },
  {
   "cell_type": "markdown",
   "metadata": {},
   "source": [
    "可以通过 sympy.subs 方法来替换符号表达式中的变量. 特别地，这提供了将符号表达式转换为函数之外的另一个直接给表达式赋值的方法."
   ]
  },
  {
   "cell_type": "code",
   "execution_count": 64,
   "metadata": {},
   "outputs": [
    {
     "data": {
      "image/png": "[encoded data removed]",
      "text/latex": [
       "$\\displaystyle \\left( 23 y, \\  x y\\right)$"
      ],
      "text/plain": [
       "(23⋅y, x⋅y)"
      ]
     },
     "execution_count": 64,
     "metadata": {},
     "output_type": "execute_result"
    }
   ],
   "source": [
    "expr = x*y #一个符号表达式\n",
    "values = {x:23} #变量替换可以写成一个字典的形式.\n",
    "expr.subs(values),expr #这里进行了部分变量的替换，即把 x 替换为数值变量 23. 原来的表达式不受影响."
   ]
  },
  {
   "cell_type": "code",
   "execution_count": 65,
   "metadata": {},
   "outputs": [
    {
     "data": {
      "image/png": "[encoded data removed]",
      "text/latex": [
       "$\\displaystyle 200$"
      ],
      "text/plain": [
       "200"
      ]
     },
     "execution_count": 65,
     "metadata": {},
     "output_type": "execute_result"
    }
   ],
   "source": [
    "expr.subs({x:20,y:10}) #通过将变量替换为数值，完成对表达式的赋值. 这里的结果是一个 sympy.core.numbers.xxx 对象.不是 python 的 int 类型."
   ]
  },
  {
   "cell_type": "code",
   "execution_count": 66,
   "metadata": {},
   "outputs": [
    {
     "data": {
      "image/png": "[encoded data removed]",
      "text/latex": [
       "$\\displaystyle -0.8732972972139946$"
      ],
      "text/plain": [
       "-0.8732972972139946"
      ]
     },
     "execution_count": 66,
     "metadata": {},
     "output_type": "execute_result"
    }
   ],
   "source": [
    "np.sin(float(expr.subs({x:20,y:10})))"
   ]
  },
  {
   "cell_type": "code",
   "execution_count": 67,
   "metadata": {},
   "outputs": [
    {
     "data": {
      "image/png": "[encoded data removed]",
      "text/latex": [
       "$\\displaystyle \\sin{\\left(x + y \\right)}$"
      ],
      "text/plain": [
       "sin(x + y)"
      ]
     },
     "execution_count": 67,
     "metadata": {},
     "output_type": "execute_result"
    }
   ],
   "source": [
    "expr_1 = sympy.exp(x+y)\n",
    "expr_1.subs({sympy.exp:sympy.sin}) # subs 方法也可以替换表达式中的 sympy 函数."
   ]
  },
  {
   "cell_type": "code",
   "execution_count": 68,
   "metadata": {},
   "outputs": [
    {
     "data": {
      "image/png": "[encoded data removed]",
      "text/latex": [
       "$\\displaystyle \\left( z^{2} + z + \\sin{\\left(x \\right)}, \\  e^{x + y} + \\sin{\\left(x \\right)}\\right)$"
      ],
      "text/plain": [
       "⎛ 2                x + y         ⎞\n",
       "⎝z  + z + sin(x), ℯ      + sin(x)⎠"
      ]
     },
     "execution_count": 68,
     "metadata": {},
     "output_type": "execute_result"
    }
   ],
   "source": [
    "expr_2 = sympy.exp(x+y) + sympy.sin(x)\n",
    "expr_2.subs({sympy.exp(x+y):z**2+z}),expr_2 #最一般的替换就是把表达式的一个子表达式替换为其他表达式."
   ]
  },
  {
   "cell_type": "code",
   "execution_count": 69,
   "metadata": {},
   "outputs": [
    {
     "data": {
      "text/markdown": [
       "# 9. 微积分\n"
      ],
      "text/plain": [
       "<IPython.core.display.Markdown object>"
      ]
     },
     "metadata": {},
     "output_type": "display_data"
    }
   ],
   "source": [
    "%%markdown\n",
    "# 9. 微积分"
   ]
  },
  {
   "cell_type": "markdown",
   "metadata": {},
   "source": [
    "对 sympy 数学函数进行求导"
   ]
  },
  {
   "cell_type": "code",
   "execution_count": 70,
   "metadata": {
    "scrolled": true
   },
   "outputs": [
    {
     "data": {
      "image/png": "[encoded data removed]",
      "text/latex": [
       "$\\displaystyle \\frac{d^{2}}{d x^{2}} f{\\left(x \\right)}$"
      ],
      "text/plain": [
       "  2      \n",
       " d       \n",
       "───(f(x))\n",
       "  2      \n",
       "dx       "
      ]
     },
     "execution_count": 70,
     "metadata": {},
     "output_type": "execute_result"
    }
   ],
   "source": [
    "x = sympy.Symbol(\"x\")\n",
    "f = sympy.Function(\"f\")(x)\n",
    "sympy.diff(f,x,2) #对抽象函数的求导, sympy.diff(f,x,x) 与 sympy.diff(f,x,2) 等价，都是求二阶导数"
   ]
  },
  {
   "cell_type": "code",
   "execution_count": 71,
   "metadata": {
    "scrolled": true
   },
   "outputs": [
    {
     "data": {
      "image/png": "[encoded data removed]",
      "text/latex": [
       "$\\displaystyle \\frac{\\partial^{3}}{\\partial y\\partial x^{2}} g{\\left(x,y \\right)}$"
      ],
      "text/plain": [
       "   3           \n",
       "  ∂            \n",
       "──────(g(x, y))\n",
       "     2         \n",
       "∂y ∂x          "
      ]
     },
     "execution_count": 71,
     "metadata": {},
     "output_type": "execute_result"
    }
   ],
   "source": [
    "g = sympy.Function(\"g\")(x,y)\n",
    "sympy.diff(g,x,y,x) #依次对 x,y,x 求偏导数. 这里其实 sympy 假设了混合偏导数可以交换位置."
   ]
  },
  {
   "cell_type": "code",
   "execution_count": 72,
   "metadata": {},
   "outputs": [
    {
     "data": {
      "image/png": "[encoded data removed]",
      "text/latex": [
       "$\\displaystyle \\cos{\\left(x \\right)}$"
      ],
      "text/plain": [
       "cos(x)"
      ]
     },
     "execution_count": 72,
     "metadata": {},
     "output_type": "execute_result"
    }
   ],
   "source": [
    "sympy.diff(sympy.sin(x),x) #对 sympy 内置数学函数求导"
   ]
  },
  {
   "cell_type": "code",
   "execution_count": 73,
   "metadata": {},
   "outputs": [
    {
     "data": {
      "image/png": "[encoded data removed]",
      "text/latex": [
       "$\\displaystyle 2 x$"
      ],
      "text/plain": [
       "2⋅x"
      ]
     },
     "execution_count": 73,
     "metadata": {},
     "output_type": "execute_result"
    }
   ],
   "source": [
    "expr = x**2 * y + y**2 + x * sympy.exp(z)\n",
    "sympy.diff(expr,x,y) #直接对符号表达式求导"
   ]
  },
  {
   "cell_type": "markdown",
   "metadata": {},
   "source": [
    "定积分和不定积分"
   ]
  },
  {
   "cell_type": "code",
   "execution_count": 74,
   "metadata": {},
   "outputs": [
    {
     "data": {
      "image/png": "[encoded data removed]",
      "text/latex": [
       "$\\displaystyle \\left( \\int f{\\left(x \\right)}\\, dx, \\  \\int\\limits_{a}^{b} f{\\left(x \\right)}\\, dx\\right)$"
      ],
      "text/plain": [
       "⎛           b        ⎞\n",
       "⎜⌠          ⌠        ⎟\n",
       "⎜⎮ f(x) dx, ⎮ f(x) dx⎟\n",
       "⎜⌡          ⌡        ⎟\n",
       "⎝           a        ⎠"
      ]
     },
     "execution_count": 74,
     "metadata": {},
     "output_type": "execute_result"
    }
   ],
   "source": [
    "sympy.integrate(f,x), sympy.integrate(f,(x,a,b)) #对抽象函数的不定积分和定积分"
   ]
  },
  {
   "cell_type": "code",
   "execution_count": 75,
   "metadata": {},
   "outputs": [
    {
     "data": {
      "image/png": "[encoded data removed]",
      "text/latex": [
       "$\\displaystyle \\left( \\frac{x^{3} y}{3} + \\frac{x^{2} e^{z}}{2} + x y^{2}, \\  y^{2} + \\frac{y}{3} + \\frac{e^{z}}{2}\\right)$"
      ],
      "text/plain": [
       "⎛ 3      2  z                   z⎞\n",
       "⎜x ⋅y   x ⋅ℯ       2   2   y   ℯ ⎟\n",
       "⎜──── + ───── + x⋅y , y  + ─ + ──⎟\n",
       "⎝ 3       2                3   2 ⎠"
      ]
     },
     "execution_count": 75,
     "metadata": {},
     "output_type": "execute_result"
    }
   ],
   "source": [
    "sympy.integrate(expr,x), sympy.integrate(expr,(x,0,1)) #直接对符号表达式进行不定积分和定积分."
   ]
  },
  {
   "cell_type": "code",
   "execution_count": 76,
   "metadata": {},
   "outputs": [
    {
     "data": {
      "image/png": "[encoded data removed]",
      "text/latex": [
       "$\\displaystyle \\frac{x^{2} y e^{z}}{2} + z \\left(\\frac{x^{3} y^{2}}{6} + \\frac{x y^{3}}{3}\\right)$"
      ],
      "text/plain": [
       " 2    z     ⎛ 3  2      3⎞\n",
       "x ⋅y⋅ℯ      ⎜x ⋅y    x⋅y ⎟\n",
       "─────── + z⋅⎜───── + ────⎟\n",
       "   2        ⎝  6      3  ⎠"
      ]
     },
     "execution_count": 76,
     "metadata": {},
     "output_type": "execute_result"
    }
   ],
   "source": [
    "sympy.integrate(expr,x,y,z) #累次积分. 这里依次对 x,y,z 进行积分."
   ]
  },
  {
   "cell_type": "markdown",
   "metadata": {},
   "source": [
    "sympy.series 方法可以对数学函数进行泰勒展开."
   ]
  },
  {
   "cell_type": "code",
   "execution_count": 77,
   "metadata": {},
   "outputs": [
    {
     "data": {
      "image/png": "[encoded data removed]",
      "text/latex": [
       "$\\displaystyle x^{2} y + \\frac{x z^{2}}{2} + x z + x + y^{2}$"
      ],
      "text/plain": [
       "          2               \n",
       " 2     x⋅z               2\n",
       "x ⋅y + ──── + x⋅z + x + y \n",
       "        2                 "
      ]
     },
     "execution_count": 77,
     "metadata": {},
     "output_type": "execute_result"
    }
   ],
   "source": [
    "sympy.series(expr,z,n=3).removeO() #对 z 进行泰勒展开，展开到 z 的三次项. 可以用 remove0 方法去除最后的 O 符号."
   ]
  },
  {
   "cell_type": "code",
   "execution_count": 78,
   "metadata": {},
   "outputs": [
    {
     "data": {
      "text/latex": [
       "$\\displaystyle f{\\left(0 \\right)} + x \\left. \\frac{d}{d x} f{\\left(x \\right)} \\right|_{\\substack{ x=0 }} + \\frac{x^{2} \\left. \\frac{d^{2}}{d x^{2}} f{\\left(x \\right)} \\right|_{\\substack{ x=0 }}}{2} + \\frac{x^{3} \\left. \\frac{d^{3}}{d x^{3}} f{\\left(x \\right)} \\right|_{\\substack{ x=0 }}}{6} + O\\left(x^{4}\\right)$"
      ],
      "text/plain": [
       "                             ⎛  2      ⎞│         ⎛  3      ⎞│           \n",
       "                           2 ⎜ d       ⎟│       3 ⎜ d       ⎟│           \n",
       "                          x ⋅⎜───(f(x))⎟│      x ⋅⎜───(f(x))⎟│           \n",
       "                             ⎜  2      ⎟│         ⎜  3      ⎟│           \n",
       "         ⎛d       ⎞│         ⎝dx       ⎠│x=0      ⎝dx       ⎠│x=0    ⎛ 4⎞\n",
       "f(0) + x⋅⎜──(f(x))⎟│    + ────────────────── + ────────────────── + O⎝x ⎠\n",
       "         ⎝dx      ⎠│x=0           2                    6                 "
      ]
     },
     "execution_count": 78,
     "metadata": {},
     "output_type": "execute_result"
    }
   ],
   "source": [
    "sympy.series(f,x,n=4) #抽象函数的泰勒展开. "
   ]
  },
  {
   "cell_type": "markdown",
   "metadata": {},
   "source": [
    "sympy.Sum 方法可以表示形式级数."
   ]
  },
  {
   "cell_type": "code",
   "execution_count": 79,
   "metadata": {},
   "outputs": [
    {
     "data": {
      "image/png": "[encoded data removed]",
      "text/latex": [
       "$\\displaystyle \\left( \\sum_{n=1}^{\\infty} \\frac{1}{n^{2}}, \\  \\frac{\\pi^{2}}{6}\\right)$"
      ],
      "text/plain": [
       "⎛  ∞         ⎞\n",
       "⎜ ____       ⎟\n",
       "⎜ ╲          ⎟\n",
       "⎜  ╲   1    2⎟\n",
       "⎜   ╲  ──  π ⎟\n",
       "⎜   ╱   2, ──⎟\n",
       "⎜  ╱   n   6 ⎟\n",
       "⎜ ╱          ⎟\n",
       "⎜ ‾‾‾‾       ⎟\n",
       "⎝n = 1       ⎠"
      ]
     },
     "execution_count": 79,
     "metadata": {},
     "output_type": "execute_result"
    }
   ],
   "source": [
    "n = sympy.symbols(\"n\", integer=True)\n",
    "x = sympy.Sum(1/(n**2), (n, 1, oo)) #级数\n",
    "x, x.doit() #doit 方法可以把一个形式运算给出具体数值."
   ]
  },
  {
   "cell_type": "code",
   "execution_count": 80,
   "metadata": {},
   "outputs": [
    {
     "data": {
      "image/png": "[encoded data removed]",
      "text/latex": [
       "$\\displaystyle \\left( \\sum_{n=0}^{\\infty} \\frac{x^{n}}{\\left(4 n\\right)!}, \\  \\sqrt{2} \\sqrt{\\pi} \\sqrt[8]{x} \\left(\\frac{I_{- \\frac{1}{2}}\\left(\\sqrt[4]{x}\\right)}{4} + \\frac{J_{- \\frac{1}{2}}\\left(\\sqrt[4]{x}\\right)}{4}\\right)\\right)$"
      ],
      "text/plain": [
       "⎛  ∞                                                                    ⎞\n",
       "⎜ ____                                                                  ⎟\n",
       "⎜ ╲                                                                     ⎟\n",
       "⎜  ╲      n                ⎛       ⎛      4 ___⎞          ⎛      4 ___⎞⎞⎟\n",
       "⎜   ╲    x           8 ___ ⎜besseli⎝-1/2, ╲╱ x ⎠   besselj⎝-1/2, ╲╱ x ⎠⎟⎟\n",
       "⎜   ╱  ──────, √2⋅√π⋅╲╱ x ⋅⎜──────────────────── + ────────────────────⎟⎟\n",
       "⎜  ╱   (4⋅n)!              ⎝         4                      4          ⎠⎟\n",
       "⎜ ╱                                                                     ⎟\n",
       "⎜ ‾‾‾‾                                                                  ⎟\n",
       "⎝n = 0                                                                  ⎠"
      ]
     },
     "execution_count": 80,
     "metadata": {},
     "output_type": "execute_result"
    }
   ],
   "source": [
    "x = sympy.Symbol(\"x\")\n",
    "y = sympy.Sum((1/sympy.factorial(4*n))*x**n,(n,0,oo))\n",
    "y, y.doit() #也可以对计算函函数项级数的和."
   ]
  },
  {
   "cell_type": "code",
   "execution_count": 81,
   "metadata": {},
   "outputs": [
    {
     "data": {
      "text/markdown": [
       "# 10.解方程(sympy 的应用价值)\n"
      ],
      "text/plain": [
       "<IPython.core.display.Markdown object>"
      ]
     },
     "metadata": {},
     "output_type": "display_data"
    }
   ],
   "source": [
    "%%markdown\n",
    "# 10.解方程(sympy 的应用价值)"
   ]
  },
  {
   "cell_type": "markdown",
   "metadata": {},
   "source": [
    "一个符号表达式就可以给出一个方程. 可以使用 sympy.solve 方法来解各种方程."
   ]
  },
  {
   "cell_type": "code",
   "execution_count": 82,
   "metadata": {},
   "outputs": [
    {
     "data": {
      "image/png": "[encoded data removed]",
      "text/latex": [
       "$\\displaystyle \\left[ - \\frac{1}{2} - \\frac{\\sqrt{3} i}{2}, \\  - \\frac{1}{2} + \\frac{\\sqrt{3} i}{2}\\right]$"
      ],
      "text/plain": [
       "⎡  1   √3⋅ⅈ    1   √3⋅ⅈ⎤\n",
       "⎢- ─ - ────, - ─ + ────⎥\n",
       "⎣  2    2      2    2  ⎦"
      ]
     },
     "execution_count": 82,
     "metadata": {},
     "output_type": "execute_result"
    }
   ],
   "source": [
    "#代数方程\n",
    "x,y = sympy.symbols(\"x,y\")\n",
    "eq = x**2 + x + 1\n",
    "sympy.solve(eq,x)"
   ]
  },
  {
   "cell_type": "code",
   "execution_count": 83,
   "metadata": {},
   "outputs": [
    {
     "data": {
      "image/png": "[encoded data removed]",
      "text/latex": [
       "$\\displaystyle \\left[ \\left\\{ x : \\frac{1}{4} - \\frac{\\sqrt{65}}{4}, \\  y : - \\frac{41}{8} + \\frac{\\sqrt{65}}{8}\\right\\}, \\  \\left\\{ x : \\frac{1}{4} + \\frac{\\sqrt{65}}{4}, \\  y : - \\frac{41}{8} - \\frac{\\sqrt{65}}{8}\\right\\}\\right]$"
      ],
      "text/plain": [
       "⎡⎧   1   √65       41   √65⎫  ⎧   1   √65       41   √65⎫⎤\n",
       "⎢⎨x: ─ - ───, y: - ── + ───⎬, ⎨x: ─ + ───, y: - ── - ───⎬⎥\n",
       "⎣⎩   4    4        8     8 ⎭  ⎩   4    4        8     8 ⎭⎦"
      ]
     },
     "execution_count": 83,
     "metadata": {},
     "output_type": "execute_result"
    }
   ],
   "source": [
    "#代数方程组\n",
    "eq1 = x**2 + y + 1\n",
    "eq2 = x + 2*y + 10\n",
    "sympy.solve([eq1,eq2],[x,y],dict=True) # dict = True 保证每个解以字典的形式给出."
   ]
  },
  {
   "cell_type": "code",
   "execution_count": 84,
   "metadata": {},
   "outputs": [
    {
     "name": "stdout",
     "output_type": "stream",
     "text": [
      "multiple generators [x, exp(x), log(x)]\n",
      "No algorithms are implemented to solve equation x + exp(x) + log(x) - 10\n"
     ]
    }
   ],
   "source": [
    "#超越方程(必须有封闭解(解析解)才行，水平有限，不是数值计算，而是符号运算)\n",
    "try:\n",
    "    eq3 = sympy.exp(x) + sympy.log(x)  + x - 10\n",
    "    sympy.solve(eq3,x)\n",
    "except Exception as e:\n",
    "    print(e)"
   ]
  },
  {
   "cell_type": "code",
   "execution_count": 85,
   "metadata": {},
   "outputs": [
    {
     "name": "stdout",
     "output_type": "stream",
     "text": [
      "CPU times: user 5.99 s, sys: 4.9 ms, total: 5.99 s\n",
      "Wall time: 6.02 s\n"
     ]
    },
    {
     "data": {
      "image/png": "[encoded data removed]",
      "text/latex": [
       "$\\displaystyle f{\\left(x \\right)} = - \\frac{E x^{5} r{\\left(3 \\right)}}{20} + C_{2} \\left(\\frac{E^{2} x^{4}}{24} - \\frac{E x^{2}}{2} + \\frac{x^{4}}{12} + 1\\right) + C_{1} x \\left(\\frac{x^{4}}{20} + 1\\right) + O\\left(x^{6}\\right)$"
      ],
      "text/plain": [
       "            5           ⎛ 2  4      2    4    ⎞        ⎛ 4    ⎞        \n",
       "         E⋅x ⋅r(3)      ⎜E ⋅x    E⋅x    x     ⎟        ⎜x     ⎟    ⎛ 6⎞\n",
       "f(x) = - ───────── + C₂⋅⎜───── - ──── + ── + 1⎟ + C₁⋅x⋅⎜── + 1⎟ + O⎝x ⎠\n",
       "             20         ⎝  24     2     12    ⎠        ⎝20    ⎠        "
      ]
     },
     "execution_count": 85,
     "metadata": {},
     "output_type": "execute_result"
    }
   ],
   "source": [
    "%%time\n",
    "#常微分方程(似乎失败了)\n",
    "f = sympy.Function(\"f\")(x)\n",
    "E = sympy.Symbol(\"E\",real=True)\n",
    "eq4 =  f.diff(x,2) + (E - x**2)*f #一维量子谐振子能量本征态问题\n",
    "sympy.dsolve(eq4,f)"
   ]
  },
  {
   "cell_type": "code",
   "execution_count": 86,
   "metadata": {},
   "outputs": [
    {
     "name": "stdout",
     "output_type": "stream",
     "text": [
      "CPU times: user 783 ms, sys: 3.9 ms, total: 787 ms\n",
      "Wall time: 789 ms\n"
     ]
    },
    {
     "data": {
      "image/png": "[encoded data removed]",
      "text/latex": [
       "$\\displaystyle \\left( f{\\left(x \\right)} + \\frac{d}{d x} f{\\left(x \\right)} + \\frac{d^{2}}{d x^{2}} f{\\left(x \\right)} + \\frac{d^{3}}{d x^{3}} f{\\left(x \\right)} + \\frac{d^{4}}{d x^{4}} f{\\left(x \\right)}, \\  f{\\left(x \\right)} = C_{1} e^{\\frac{x \\left(-1 + \\sqrt{5}\\right)}{4}} \\sin{\\left(\\frac{\\sqrt{2} x \\sqrt{\\sqrt{5} + 5}}{4} \\right)} + C_{2} e^{\\frac{x \\left(-1 + \\sqrt{5}\\right)}{4}} \\cos{\\left(\\frac{\\sqrt{2} x \\sqrt{\\sqrt{5} + 5}}{4} \\right)} + C_{3} e^{\\frac{x \\left(- \\sqrt{5} - 1\\right)}{4}} \\sin{\\left(\\frac{\\sqrt{2} x \\sqrt{5 - \\sqrt{5}}}{4} \\right)} + C_{4} e^{\\frac{x \\left(- \\sqrt{5} - 1\\right)}{4}} \\cos{\\left(\\frac{\\sqrt{2} x \\sqrt{5 - \\sqrt{5}}}{4} \\right)}\\right)$"
      ],
      "text/plain": [
       "⎛                                                                x⋅(-1 + √5)  \n",
       "⎜                    2           3           4                   ───────────  \n",
       "⎜       d           d           d           d                         4       \n",
       "⎜f(x) + ──(f(x)) + ───(f(x)) + ───(f(x)) + ───(f(x)), f(x) = C₁⋅ℯ           ⋅s\n",
       "⎜       dx           2           3           4                                \n",
       "⎝                  dx          dx          dx                                 \n",
       "\n",
       "                          x⋅(-1 + √5)                            x⋅(-√5 - 1)  \n",
       "  ⎛       ________⎞       ───────────    ⎛       ________⎞       ───────────  \n",
       "  ⎜√2⋅x⋅╲╱ √5 + 5 ⎟            4         ⎜√2⋅x⋅╲╱ √5 + 5 ⎟            4       \n",
       "in⎜───────────────⎟ + C₂⋅ℯ           ⋅cos⎜───────────────⎟ + C₃⋅ℯ           ⋅s\n",
       "  ⎝       4       ⎠                      ⎝       4       ⎠                    \n",
       "                                                                              \n",
       "\n",
       "                          x⋅(-√5 - 1)                     ⎞\n",
       "  ⎛       ________⎞       ───────────    ⎛       ________⎞⎟\n",
       "  ⎜√2⋅x⋅╲╱ 5 - √5 ⎟            4         ⎜√2⋅x⋅╲╱ 5 - √5 ⎟⎟\n",
       "in⎜───────────────⎟ + C₄⋅ℯ           ⋅cos⎜───────────────⎟⎟\n",
       "  ⎝       4       ⎠                      ⎝       4       ⎠⎟\n",
       "                                                          ⎠"
      ]
     },
     "execution_count": 86,
     "metadata": {},
     "output_type": "execute_result"
    }
   ],
   "source": [
    "%%time\n",
    "#线性常微分方程\n",
    "x = sympy.Symbol(\"x\")\n",
    "eq5 = f.diff(x,4) + f.diff(x,3) + f.diff(x,2) + f.diff(x,1) +  f \n",
    "eq5,sympy.dsolve(eq5,f)"
   ]
  }
 ],
 "metadata": {
  "kernelspec": {
   "display_name": "Python 3",
   "language": "python",
   "name": "python3"
  },
  "language_info": {
   "codemirror_mode": {
    "name": "ipython",
    "version": 3
   },
   "file_extension": ".py",
   "mimetype": "text/x-python",
   "name": "python",
   "nbconvert_exporter": "python",
   "pygments_lexer": "ipython3",
   "version": "3.8.3"
  }
 },
 "nbformat": 4,
 "nbformat_minor": 4
}
