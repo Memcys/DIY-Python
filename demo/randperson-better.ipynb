{
 "cells": [
  {
   "cell_type": "code",
   "execution_count": 18,
   "metadata": {},
   "outputs": [],
   "source": [
    "from numpy.random import randint"
   ]
  },
  {
   "cell_type": "code",
   "execution_count": 19,
   "metadata": {},
   "outputs": [],
   "source": [
    "import logging\n",
    "logging.getLogger().setLevel(logging.INFO)"
   ]
  },
  {
   "cell_type": "code",
   "execution_count": 29,
   "metadata": {},
   "outputs": [
    {
     "data": {
      "text/plain": [
       "['CS', 'FL', 'FY', 'ML', 'WJ', 'YH', 'YW', 'ZF']"
      ]
     },
     "execution_count": 29,
     "metadata": {},
     "output_type": "execute_result"
    }
   ],
   "source": [
    "l = ['ML', 'WJ', 'FL', 'CS', 'ZF', 'YH', 'FY', 'YW']\n",
    "l.sort()\n",
    "l"
   ]
  },
  {
   "cell_type": "markdown",
   "metadata": {},
   "source": [
    "New feature in Python 3.8:\n",
    "- [assignment (“the walrus operator”) `:=`](https://docs.python.org/3/whatsnew/3.8.html#assignment-expressions)\n",
    "- [f-strings support = for self-documenting expressions and debugging](https://docs.python.org/3/whatsnew/3.8.html#f-strings-support-for-self-documenting-expressions-and-debugging)"
   ]
  },
  {
   "cell_type": "code",
   "execution_count": 27,
   "metadata": {},
   "outputs": [],
   "source": [
    "def f(l: list):\n",
    "    '''select a random person in the list,\n",
    "    print it out and then pop it\n",
    "    '''\n",
    "    if (sz := len(l)) > 0:\n",
    "        n = randint(sz)\n",
    "        print(f'{n=}; {l[n]=}')\n",
    "        l.pop(n)\n",
    "        print(f'{l=}')\n",
    "    else:\n",
    "        # or print if you prefer\n",
    "        logging.info('omitting blank list')"
   ]
  },
  {
   "cell_type": "code",
   "execution_count": 30,
   "metadata": {},
   "outputs": [
    {
     "name": "stderr",
     "output_type": "stream",
     "text": [
      "INFO:root:omitting blank list\n"
     ]
    },
    {
     "name": "stdout",
     "output_type": "stream",
     "text": [
      "n=4; l[n]='WJ'\n",
      "l=['CS', 'FL', 'FY', 'ML', 'YH', 'YW', 'ZF']\n",
      "n=2; l[n]='FY'\n",
      "l=['CS', 'FL', 'ML', 'YH', 'YW', 'ZF']\n",
      "n=0; l[n]='CS'\n",
      "l=['FL', 'ML', 'YH', 'YW', 'ZF']\n",
      "n=1; l[n]='ML'\n",
      "l=['FL', 'YH', 'YW', 'ZF']\n",
      "n=1; l[n]='YH'\n",
      "l=['FL', 'YW', 'ZF']\n",
      "n=0; l[n]='FL'\n",
      "l=['YW', 'ZF']\n",
      "n=0; l[n]='YW'\n",
      "l=['ZF']\n",
      "n=0; l[n]='ZF'\n",
      "l=[]\n"
     ]
    }
   ],
   "source": [
    "for i in range(len(l) + 1):\n",
    "    f(l)"
   ]
  }
 ],
 "metadata": {
  "jupytext": {
   "encoding": "# -*- coding: utf-8 -*-",
   "formats": "py,ipynb"
  },
  "kernelspec": {
   "display_name": "Python 3.8.3 64-bit",
   "language": "python",
   "name": "python38364bita14c50cabb94433e97ec307454e1294b"
  },
  "language_info": {
   "codemirror_mode": {
    "name": "ipython",
    "version": 3
   },
   "file_extension": ".py",
   "mimetype": "text/x-python",
   "name": "python",
   "nbconvert_exporter": "python",
   "pygments_lexer": "ipython3",
   "version": "3.8.3"
  }
 },
 "nbformat": 4,
 "nbformat_minor": 4
}
