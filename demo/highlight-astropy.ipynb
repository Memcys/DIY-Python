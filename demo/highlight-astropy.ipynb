{
 "cells": [
  {
   "cell_type": "markdown",
   "metadata": {},
   "source": [
    "# 物理单位和物理常量"
   ]
  },
  {
   "cell_type": "code",
   "execution_count": null,
   "metadata": {},
   "outputs": [],
   "source": [
    "# %pip install -U astropy"
   ]
  },
  {
   "cell_type": "markdown",
   "metadata": {},
   "source": [
    "## 单位 [units](https://docs.astropy.org/en/stable/units/#module-astropy.units) "
   ]
  },
  {
   "cell_type": "code",
   "execution_count": 3,
   "metadata": {},
   "outputs": [],
   "source": [
    "import astropy.units as u"
   ]
  },
  {
   "cell_type": "markdown",
   "metadata": {},
   "source": [
    "### 查看 units 的 attributes"
   ]
  },
  {
   "cell_type": "code",
   "execution_count": 8,
   "metadata": {
    "scrolled": true
   },
   "outputs": [
    {
     "data": {
      "text/plain": [
       "(3350,\n",
       " ['A',\n",
       "  'AA',\n",
       "  'AB',\n",
       "  'ABflux',\n",
       "  'ABmag',\n",
       "  'AU',\n",
       "  'Angstrom',\n",
       "  'B',\n",
       "  'Ba',\n",
       "  'Barye',\n",
       "  'Bi',\n",
       "  'Biot',\n",
       "  'Bol',\n",
       "  'Bq',\n",
       "  'C',\n",
       "  'Celsius',\n",
       "  'Ci',\n",
       "  'CompositeUnit',\n",
       "  'D',\n",
       "  'Da',\n",
       "  'Dalton',\n",
       "  'Debye',\n",
       "  'Decibel',\n",
       "  'DecibelUnit',\n",
       "  'Dex',\n",
       "  'DexUnit',\n",
       "  'EA',\n",
       "  'EAU',\n",
       "  'EB',\n",
       "  'EBa',\n",
       "  'EC',\n",
       "  'ED',\n",
       "  'EF',\n",
       "  'EG',\n",
       "  'EGal',\n",
       "  'EH',\n",
       "  'EHz',\n",
       "  'EJ',\n",
       "  'EJy',\n",
       "  'EK',\n",
       "  'EL',\n",
       "  'EN',\n",
       "  'EOhm',\n",
       "  'EP',\n",
       "  'EPa',\n",
       "  'ER',\n",
       "  'ERy',\n",
       "  'ES',\n",
       "  'ESt',\n",
       "  'ET',\n",
       "  'EV',\n",
       "  'EW',\n",
       "  'EWb',\n",
       "  'Ea',\n",
       "  'Eadu',\n",
       "  'Earcmin',\n",
       "  'Earcsec',\n",
       "  'Eau',\n",
       "  'Eb',\n",
       "  'Ebarn',\n",
       "  'Ebeam',\n",
       "  'Ebin',\n",
       "  'Ebit',\n",
       "  'Ebyte',\n",
       "  'Ecd',\n",
       "  'Echan',\n",
       "  'Ecount',\n",
       "  'Ect',\n",
       "  'Ed',\n",
       "  'Edeg',\n",
       "  'Edyn',\n",
       "  'EeV',\n",
       "  'Eerg',\n",
       "  'Eg',\n",
       "  'Eh',\n",
       "  'EiB',\n",
       "  'Eib',\n",
       "  'Eibit',\n",
       "  'Eibyte',\n",
       "  'Ek',\n",
       "  'El',\n",
       "  'Elm',\n",
       "  'Elx',\n",
       "  'Elyr',\n",
       "  'Em',\n",
       "  'Emag',\n",
       "  'Emin',\n",
       "  'Emol',\n",
       "  'Eohm',\n",
       "  'Epc',\n",
       "  'Eph',\n",
       "  'Ephoton',\n",
       "  'Epix',\n",
       "  'Epixel',\n",
       "  'Erad',\n",
       "  'Es',\n",
       "  'Esr',\n",
       "  'Eu',\n",
       "  'Evox',\n",
       "  'Evoxel',\n",
       "  'Eyr',\n",
       "  'F',\n",
       "  'Farad',\n",
       "  'Fr',\n",
       "  'Franklin',\n",
       "  'FunctionQuantity',\n",
       "  'FunctionUnitBase',\n",
       "  'G',\n",
       "  'GA',\n",
       "  'GAU',\n",
       "  'GB',\n",
       "  'GBa',\n",
       "  'GC',\n",
       "  'GD',\n",
       "  'GF',\n",
       "  'GG',\n",
       "  'GGal',\n",
       "  'GH',\n",
       "  'GHz',\n",
       "  'GJ',\n",
       "  'GJy',\n",
       "  'GK',\n",
       "  'GL',\n",
       "  'GN',\n",
       "  'GOhm',\n",
       "  'GP',\n",
       "  'GPa',\n",
       "  'GR',\n",
       "  'GRy',\n",
       "  'GS',\n",
       "  'GSt',\n",
       "  'GT',\n",
       "  'GV',\n",
       "  'GW',\n",
       "  'GWb',\n",
       "  'Ga',\n",
       "  'Gadu',\n",
       "  'Gal',\n",
       "  'Garcmin',\n",
       "  'Garcsec',\n",
       "  'Gau',\n",
       "  'Gauss',\n",
       "  'Gb',\n",
       "  'Gbarn',\n",
       "  'Gbeam',\n",
       "  'Gbin',\n",
       "  'Gbit',\n",
       "  'Gbyte',\n",
       "  'Gcd',\n",
       "  'Gchan',\n",
       "  'Gcount',\n",
       "  'Gct',\n",
       "  'Gd',\n",
       "  'Gdeg',\n",
       "  'Gdyn',\n",
       "  'GeV',\n",
       "  'Gerg',\n",
       "  'Gg',\n",
       "  'Gh',\n",
       "  'GiB',\n",
       "  'Gib',\n",
       "  'Gibit',\n",
       "  'Gibyte',\n",
       "  'Gk',\n",
       "  'Gl',\n",
       "  'Glm',\n",
       "  'Glx',\n",
       "  'Glyr',\n",
       "  'Gm',\n",
       "  'Gmag',\n",
       "  'Gmin',\n",
       "  'Gmol',\n",
       "  'Gohm',\n",
       "  'Gpc',\n",
       "  'Gph',\n",
       "  'Gphoton',\n",
       "  'Gpix',\n",
       "  'Gpixel',\n",
       "  'Grad',\n",
       "  'Gs',\n",
       "  'Gsr',\n",
       "  'Gu',\n",
       "  'Gvox',\n",
       "  'Gvoxel',\n",
       "  'Gyr',\n",
       "  'H',\n",
       "  'Henry',\n",
       "  'Hertz',\n",
       "  'Hz',\n",
       "  'IrreducibleUnit',\n",
       "  'J',\n",
       "  'Jansky',\n",
       "  'Joule',\n",
       "  'Jy',\n",
       "  'K',\n",
       "  'Kayser',\n",
       "  'Kelvin',\n",
       "  'KiB',\n",
       "  'Kib',\n",
       "  'Kibit',\n",
       "  'Kibyte',\n",
       "  'L',\n",
       "  'L_bol',\n",
       "  'L_sun',\n",
       "  'LogQuantity',\n",
       "  'LogUnit',\n",
       "  'Lsun',\n",
       "  'MA',\n",
       "  'MAU',\n",
       "  'MB',\n",
       "  'MBa',\n",
       "  'MC',\n",
       "  'MD',\n",
       "  'MF',\n",
       "  'MG',\n",
       "  'MGal',\n",
       "  'MH',\n",
       "  'MHz',\n",
       "  'MJ',\n",
       "  'MJy',\n",
       "  'MK',\n",
       "  'ML',\n",
       "  'MN',\n",
       "  'MOhm',\n",
       "  'MP',\n",
       "  'MPa',\n",
       "  'MR',\n",
       "  'MRy',\n",
       "  'MS',\n",
       "  'MSt',\n",
       "  'MT',\n",
       "  'MV',\n",
       "  'MW',\n",
       "  'MWb',\n",
       "  'M_bol',\n",
       "  'M_e',\n",
       "  'M_earth',\n",
       "  'M_jup',\n",
       "  'M_jupiter',\n",
       "  'M_p',\n",
       "  'M_sun',\n",
       "  'Ma',\n",
       "  'Madu',\n",
       "  'MagUnit',\n",
       "  'Magnitude',\n",
       "  'Marcmin',\n",
       "  'Marcsec',\n",
       "  'Mau',\n",
       "  'Mb',\n",
       "  'Mbarn',\n",
       "  'Mbeam',\n",
       "  'Mbin',\n",
       "  'Mbit',\n",
       "  'Mbyte',\n",
       "  'Mcd',\n",
       "  'Mchan',\n",
       "  'Mcount',\n",
       "  'Mct',\n",
       "  'Md',\n",
       "  'Mdeg',\n",
       "  'Mdyn',\n",
       "  'MeV',\n",
       "  'Mearth',\n",
       "  'Merg',\n",
       "  'Mg',\n",
       "  'Mh',\n",
       "  'MiB',\n",
       "  'Mib',\n",
       "  'Mibit',\n",
       "  'Mibyte',\n",
       "  'Mjup',\n",
       "  'Mjupiter',\n",
       "  'Mk',\n",
       "  'Ml',\n",
       "  'Mlm',\n",
       "  'Mlx',\n",
       "  'Mlyr',\n",
       "  'Mm',\n",
       "  'Mmag',\n",
       "  'Mmin',\n",
       "  'Mmol',\n",
       "  'Mohm',\n",
       "  'Mpc',\n",
       "  'Mph',\n",
       "  'Mphoton',\n",
       "  'Mpix',\n",
       "  'Mpixel',\n",
       "  'Mrad',\n",
       "  'Ms',\n",
       "  'Msr',\n",
       "  'Msun',\n",
       "  'Mu',\n",
       "  'Mvox',\n",
       "  'Mvoxel',\n",
       "  'Myr',\n",
       "  'N',\n",
       "  'NamedUnit',\n",
       "  'Newton',\n",
       "  'Ohm',\n",
       "  'P',\n",
       "  'PA',\n",
       "  'PAU',\n",
       "  'PB',\n",
       "  'PBa',\n",
       "  'PC',\n",
       "  'PD',\n",
       "  'PF',\n",
       "  'PG',\n",
       "  'PGal',\n",
       "  'PH',\n",
       "  'PHz',\n",
       "  'PJ',\n",
       "  'PJy',\n",
       "  'PK',\n",
       "  'PL',\n",
       "  'PN',\n",
       "  'POhm',\n",
       "  'PP',\n",
       "  'PPa',\n",
       "  'PR',\n",
       "  'PRy',\n",
       "  'PS',\n",
       "  'PSt',\n",
       "  'PT',\n",
       "  'PV',\n",
       "  'PW',\n",
       "  'PWb',\n",
       "  'Pa',\n",
       "  'Padu',\n",
       "  'Parcmin',\n",
       "  'Parcsec',\n",
       "  'Pascal',\n",
       "  'Pau',\n",
       "  'Pb',\n",
       "  'Pbarn',\n",
       "  'Pbeam',\n",
       "  'Pbin',\n",
       "  'Pbit',\n",
       "  'Pbyte',\n",
       "  'Pcd',\n",
       "  'Pchan',\n",
       "  'Pcount',\n",
       "  'Pct',\n",
       "  'Pd',\n",
       "  'Pdeg',\n",
       "  'Pdyn',\n",
       "  'PeV',\n",
       "  'Perg',\n",
       "  'Pg',\n",
       "  'Ph',\n",
       "  'PiB',\n",
       "  'Pib',\n",
       "  'Pibit',\n",
       "  'Pibyte',\n",
       "  'Pk',\n",
       "  'Pl',\n",
       "  'Plm',\n",
       "  'Plx',\n",
       "  'Plyr',\n",
       "  'Pm',\n",
       "  'Pmag',\n",
       "  'Pmin',\n",
       "  'Pmol',\n",
       "  'Pohm',\n",
       "  'Ppc',\n",
       "  'Pph',\n",
       "  'Pphoton',\n",
       "  'Ppix',\n",
       "  'Ppixel',\n",
       "  'Prad',\n",
       "  'PrefixUnit',\n",
       "  'Ps',\n",
       "  'Psr',\n",
       "  'Pu',\n",
       "  'Pvox',\n",
       "  'Pvoxel',\n",
       "  'Pyr',\n",
       "  'Quantity',\n",
       "  'QuantityInfo',\n",
       "  'QuantityInfoBase',\n",
       "  'R',\n",
       "  'R_earth',\n",
       "  'R_jup',\n",
       "  'R_jupiter',\n",
       "  'R_sun',\n",
       "  'Rayleigh',\n",
       "  'Rearth',\n",
       "  'Rjup',\n",
       "  'Rjupiter',\n",
       "  'Rsun',\n",
       "  'Ry',\n",
       "  'S',\n",
       "  'ST',\n",
       "  'STflux',\n",
       "  'STmag',\n",
       "  'Siemens',\n",
       "  'SpecificTypeQuantity',\n",
       "  'St',\n",
       "  'Sun',\n",
       "  'T',\n",
       "  'TA',\n",
       "  'TAU',\n",
       "  'TB',\n",
       "  'TBa',\n",
       "  'TC',\n",
       "  'TD',\n",
       "  'TF',\n",
       "  'TG',\n",
       "  'TGal',\n",
       "  'TH',\n",
       "  'THz',\n",
       "  'TJ',\n",
       "  'TJy',\n",
       "  'TK',\n",
       "  'TL',\n",
       "  'TN',\n",
       "  'TOhm',\n",
       "  'TP',\n",
       "  'TPa',\n",
       "  'TR',\n",
       "  'TRy',\n",
       "  'TS',\n",
       "  'TSt',\n",
       "  'TT',\n",
       "  'TV',\n",
       "  'TW',\n",
       "  'TWb',\n",
       "  'Ta',\n",
       "  'Tadu',\n",
       "  'Tarcmin',\n",
       "  'Tarcsec',\n",
       "  'Tau',\n",
       "  'Tb',\n",
       "  'Tbarn',\n",
       "  'Tbeam',\n",
       "  'Tbin',\n",
       "  'Tbit',\n",
       "  'Tbyte',\n",
       "  'Tcd',\n",
       "  'Tchan',\n",
       "  'Tcount',\n",
       "  'Tct',\n",
       "  'Td',\n",
       "  'Tdeg',\n",
       "  'Tdyn',\n",
       "  'TeV',\n",
       "  'Terg',\n",
       "  'Tesla',\n",
       "  'Tg',\n",
       "  'Th',\n",
       "  'TiB',\n",
       "  'Tib',\n",
       "  'Tibit',\n",
       "  'Tibyte',\n",
       "  'Tk',\n",
       "  'Tl',\n",
       "  'Tlm',\n",
       "  'Tlx',\n",
       "  'Tlyr',\n",
       "  'Tm',\n",
       "  'Tmag',\n",
       "  'Tmin',\n",
       "  'Tmol',\n",
       "  'Tohm',\n",
       "  'Tpc',\n",
       "  'Tph',\n",
       "  'Tphoton',\n",
       "  'Tpix',\n",
       "  'Tpixel',\n",
       "  'Trad',\n",
       "  'Ts',\n",
       "  'Tsr',\n",
       "  'Tu',\n",
       "  'Tvox',\n",
       "  'Tvoxel',\n",
       "  'Tyr',\n",
       "  'Unit',\n",
       "  'UnitBase',\n",
       "  'UnitConversionError',\n",
       "  'UnitTypeError',\n",
       "  'UnitsError',\n",
       "  'UnitsWarning',\n",
       "  'UnrecognizedUnit',\n",
       "  'V',\n",
       "  'Volt',\n",
       "  'W',\n",
       "  'Watt',\n",
       "  'Wb',\n",
       "  'Weber',\n",
       "  'YA',\n",
       "  'YAU',\n",
       "  'YB',\n",
       "  'YBa',\n",
       "  'YC',\n",
       "  'YD',\n",
       "  'YF',\n",
       "  'YG',\n",
       "  'YGal',\n",
       "  'YH',\n",
       "  'YHz',\n",
       "  'YJ',\n",
       "  'YJy',\n",
       "  'YK',\n",
       "  'YL',\n",
       "  'YN',\n",
       "  'YOhm',\n",
       "  'YP',\n",
       "  'YPa',\n",
       "  'YR',\n",
       "  'YRy',\n",
       "  'YS',\n",
       "  'YSt',\n",
       "  'YT',\n",
       "  'YV',\n",
       "  'YW',\n",
       "  'YWb',\n",
       "  'Ya',\n",
       "  'Yadu',\n",
       "  'Yarcmin',\n",
       "  'Yarcsec',\n",
       "  'Yau',\n",
       "  'Yb',\n",
       "  'Ybarn',\n",
       "  'Ybeam',\n",
       "  'Ybin',\n",
       "  'Ybit',\n",
       "  'Ybyte',\n",
       "  'Ycd',\n",
       "  'Ychan',\n",
       "  'Ycount',\n",
       "  'Yct',\n",
       "  'Yd',\n",
       "  'Ydeg',\n",
       "  'Ydyn',\n",
       "  'YeV',\n",
       "  'Yerg',\n",
       "  'Yg',\n",
       "  'Yh',\n",
       "  'Yk',\n",
       "  'Yl',\n",
       "  'Ylm',\n",
       "  'Ylx',\n",
       "  'Ylyr',\n",
       "  'Ym',\n",
       "  'Ymag',\n",
       "  'Ymin',\n",
       "  'Ymol',\n",
       "  'Yohm',\n",
       "  'Ypc',\n",
       "  'Yph',\n",
       "  'Yphoton',\n",
       "  'Ypix',\n",
       "  'Ypixel',\n",
       "  'Yrad',\n",
       "  'Ys',\n",
       "  'Ysr',\n",
       "  'Yu',\n",
       "  'Yvox',\n",
       "  'Yvoxel',\n",
       "  'Yyr',\n",
       "  'ZA',\n",
       "  'ZAU',\n",
       "  'ZB',\n",
       "  'ZBa',\n",
       "  'ZC',\n",
       "  'ZD',\n",
       "  'ZF',\n",
       "  'ZG',\n",
       "  'ZGal',\n",
       "  'ZH',\n",
       "  'ZHz',\n",
       "  'ZJ',\n",
       "  'ZJy',\n",
       "  'ZK',\n",
       "  'ZL',\n",
       "  'ZN',\n",
       "  'ZOhm',\n",
       "  'ZP',\n",
       "  'ZPa',\n",
       "  'ZR',\n",
       "  'ZRy',\n",
       "  'ZS',\n",
       "  'ZSt',\n",
       "  'ZT',\n",
       "  'ZV',\n",
       "  'ZW',\n",
       "  'ZWb',\n",
       "  'Za',\n",
       "  'Zadu',\n",
       "  'Zarcmin',\n",
       "  'Zarcsec',\n",
       "  'Zau',\n",
       "  'Zb',\n",
       "  'Zbarn',\n",
       "  'Zbeam',\n",
       "  'Zbin',\n",
       "  'Zbit',\n",
       "  'Zbyte',\n",
       "  'Zcd',\n",
       "  'Zchan',\n",
       "  'Zcount',\n",
       "  'Zct',\n",
       "  'Zd',\n",
       "  'Zdeg',\n",
       "  'Zdyn',\n",
       "  'ZeV',\n",
       "  'Zerg',\n",
       "  'Zg',\n",
       "  'Zh',\n",
       "  'Zk',\n",
       "  'Zl',\n",
       "  'Zlm',\n",
       "  'Zlx',\n",
       "  'Zlyr',\n",
       "  'Zm',\n",
       "  'Zmag',\n",
       "  'Zmin',\n",
       "  'Zmol',\n",
       "  'Zohm',\n",
       "  'Zpc',\n",
       "  'Zph',\n",
       "  'Zphoton',\n",
       "  'Zpix',\n",
       "  'Zpixel',\n",
       "  'Zrad',\n",
       "  'Zs',\n",
       "  'Zsr',\n",
       "  'Zu',\n",
       "  'Zvox',\n",
       "  'Zvoxel',\n",
       "  'Zyr',\n",
       "  '__builtins__',\n",
       "  '__cached__',\n",
       "  '__doc__',\n",
       "  '__file__',\n",
       "  '__loader__',\n",
       "  '__name__',\n",
       "  '__package__',\n",
       "  '__path__',\n",
       "  '__spec__',\n",
       "  'a',\n",
       "  'aA',\n",
       "  'aAU',\n",
       "  'aB',\n",
       "  'aBa',\n",
       "  'aC',\n",
       "  'aD',\n",
       "  'aF',\n",
       "  'aG',\n",
       "  'aGal',\n",
       "  'aH',\n",
       "  'aHz',\n",
       "  'aJ',\n",
       "  'aJy',\n",
       "  'aK',\n",
       "  'aL',\n",
       "  'aN',\n",
       "  'aOhm',\n",
       "  'aP',\n",
       "  'aPa',\n",
       "  'aR',\n",
       "  'aRy',\n",
       "  'aS',\n",
       "  'aSt',\n",
       "  'aT',\n",
       "  'aV',\n",
       "  'aW',\n",
       "  'aWb',\n",
       "  'aa',\n",
       "  'aadu',\n",
       "  'aarcmin',\n",
       "  'aarcsec',\n",
       "  'aau',\n",
       "  'ab',\n",
       "  'abA',\n",
       "  'abC',\n",
       "  'abampere',\n",
       "  'abarn',\n",
       "  'abcoulomb',\n",
       "  'abeam',\n",
       "  'abin',\n",
       "  'abit',\n",
       "  'abyte',\n",
       "  'acd',\n",
       "  'achan',\n",
       "  'acount',\n",
       "  'act',\n",
       "  'ad',\n",
       "  'add_enabled_equivalencies',\n",
       "  'add_enabled_units',\n",
       "  'adeg',\n",
       "  'adu',\n",
       "  'adyn',\n",
       "  'aeV',\n",
       "  'aerg',\n",
       "  'ag',\n",
       "  'ah',\n",
       "  'ak',\n",
       "  'al',\n",
       "  'allclose',\n",
       "  'alm',\n",
       "  'alx',\n",
       "  'alyr',\n",
       "  'am',\n",
       "  'amag',\n",
       "  'amin',\n",
       "  'amol',\n",
       "  'amp',\n",
       "  'ampere',\n",
       "  'angstrom',\n",
       "  'annum',\n",
       "  'aohm',\n",
       "  'apc',\n",
       "  'aph',\n",
       "  'aphoton',\n",
       "  'apix',\n",
       "  'apixel',\n",
       "  'arad',\n",
       "  'arcmin',\n",
       "  'arcminute',\n",
       "  'arcsec',\n",
       "  'arcsecond',\n",
       "  'asr',\n",
       "  'astronomical_unit',\n",
       "  'astrophys',\n",
       "  'attoBarye',\n",
       "  'attoDa',\n",
       "  'attoDalton',\n",
       "  'attoDebye',\n",
       "  'attoFarad',\n",
       "  'attoGauss',\n",
       "  'attoHenry',\n",
       "  'attoHertz',\n",
       "  'attoJansky',\n",
       "  'attoJoule',\n",
       "  'attoKayser',\n",
       "  'attoKelvin',\n",
       "  'attoNewton',\n",
       "  'attoOhm',\n",
       "  'attoPascal',\n",
       "  'attoRayleigh',\n",
       "  'attoSiemens',\n",
       "  'attoTesla',\n",
       "  'attoVolt',\n",
       "  'attoWatt',\n",
       "  'attoWeber',\n",
       "  'attoamp',\n",
       "  'attoampere',\n",
       "  'attoannum',\n",
       "  'attoarcminute',\n",
       "  'attoarcsecond',\n",
       "  'attoastronomical_unit',\n",
       "  'attobarn',\n",
       "  'attobarye',\n",
       "  'attobit',\n",
       "  'attobyte',\n",
       "  'attocandela',\n",
       "  'attocoulomb',\n",
       "  'attocount',\n",
       "  'attoday',\n",
       "  'attodebye',\n",
       "  'attodegree',\n",
       "  'attodyne',\n",
       "  'attoelectronvolt',\n",
       "  'attofarad',\n",
       "  'attogal',\n",
       "  'attogauss',\n",
       "  'attogram',\n",
       "  'attohenry',\n",
       "  'attohertz',\n",
       "  'attohour',\n",
       "  'attohr',\n",
       "  'attojansky',\n",
       "  'attojoule',\n",
       "  'attokayser',\n",
       "  'attolightyear',\n",
       "  'attoliter',\n",
       "  'attolumen',\n",
       "  'attolux',\n",
       "  'attometer',\n",
       "  'attominute',\n",
       "  'attomole',\n",
       "  'attonewton',\n",
       "  'attoparsec',\n",
       "  'attopascal',\n",
       "  'attophoton',\n",
       "  'attopixel',\n",
       "  'attopoise',\n",
       "  'attoradian',\n",
       "  'attorayleigh',\n",
       "  'attorydberg',\n",
       "  'attosecond',\n",
       "  'attosiemens',\n",
       "  'attosteradian',\n",
       "  'attostokes',\n",
       "  'attotesla',\n",
       "  'attovolt',\n",
       "  'attovoxel',\n",
       "  'attowatt',\n",
       "  'attoweber',\n",
       "  'attoyear',\n",
       "  'au',\n",
       "  'avox',\n",
       "  'avoxel',\n",
       "  'ayr',\n",
       "  'b',\n",
       "  'bar',\n",
       "  'barn',\n",
       "  'barye',\n",
       "  'beam',\n",
       "  'beam_angular_area',\n",
       "  'becquerel',\n",
       "  'bin',\n",
       "  'binary_prefixes',\n",
       "  'bit',\n",
       "  'bol',\n",
       "  'brightness_temperature',\n",
       "  'byte',\n",
       "  'cA',\n",
       "  'cAU',\n",
       "  'cB',\n",
       "  'cBa',\n",
       "  'cC',\n",
       "  'cD',\n",
       "  'cF',\n",
       "  'cG',\n",
       "  'cGal',\n",
       "  'cH',\n",
       "  'cHz',\n",
       "  'cJ',\n",
       "  'cJy',\n",
       "  'cK',\n",
       "  'cL',\n",
       "  'cN',\n",
       "  'cOhm',\n",
       "  'cP',\n",
       "  'cPa',\n",
       "  'cR',\n",
       "  'cRy',\n",
       "  'cS',\n",
       "  'cSt',\n",
       "  'cT',\n",
       "  'cV',\n",
       "  'cW',\n",
       "  'cWb',\n",
       "  'ca',\n",
       "  'cadu',\n",
       "  'candela',\n",
       "  'carcmin',\n",
       "  'carcsec',\n",
       "  'cau',\n",
       "  'cb',\n",
       "  'cbarn',\n",
       "  'cbeam',\n",
       "  'cbin',\n",
       "  'cbit',\n",
       "  'cbyte',\n",
       "  'ccd',\n",
       "  'cchan',\n",
       "  'ccount',\n",
       "  'cct',\n",
       "  'cd',\n",
       "  'cdeg',\n",
       "  'cdyn',\n",
       "  'ceV',\n",
       "  'centiBarye',\n",
       "  'centiDa',\n",
       "  'centiDalton',\n",
       "  'centiDebye',\n",
       "  'centiFarad',\n",
       "  'centiGauss',\n",
       "  'centiHenry',\n",
       "  'centiHertz',\n",
       "  'centiJansky',\n",
       "  'centiJoule',\n",
       "  'centiKayser',\n",
       "  'centiKelvin',\n",
       "  'centiNewton',\n",
       "  'centiOhm',\n",
       "  'centiPascal',\n",
       "  'centiRayleigh',\n",
       "  'centiSiemens',\n",
       "  'centiTesla',\n",
       "  'centiVolt',\n",
       "  'centiWatt',\n",
       "  'centiWeber',\n",
       "  'centiamp',\n",
       "  'centiampere',\n",
       "  'centiannum',\n",
       "  'centiarcminute',\n",
       "  'centiarcsecond',\n",
       "  'centiastronomical_unit',\n",
       "  'centibarn',\n",
       "  'centibarye',\n",
       "  'centibit',\n",
       "  'centibyte',\n",
       "  'centicandela',\n",
       "  'centicoulomb',\n",
       "  'centicount',\n",
       "  'centiday',\n",
       "  'centidebye',\n",
       "  'centidegree',\n",
       "  'centidyne',\n",
       "  'centielectronvolt',\n",
       "  'centifarad',\n",
       "  'centigal',\n",
       "  'centigauss',\n",
       "  'centigram',\n",
       "  'centihenry',\n",
       "  'centihertz',\n",
       "  'centihour',\n",
       "  'centihr',\n",
       "  'centijansky',\n",
       "  'centijoule',\n",
       "  'centikayser',\n",
       "  'centilightyear',\n",
       "  'centiliter',\n",
       "  'centilumen',\n",
       "  'centilux',\n",
       "  'centimeter',\n",
       "  'centiminute',\n",
       "  'centimole',\n",
       "  'centinewton',\n",
       "  'centiparsec',\n",
       "  'centipascal',\n",
       "  'centiphoton',\n",
       "  'centipixel',\n",
       "  'centipoise',\n",
       "  'centiradian',\n",
       "  'centirayleigh',\n",
       "  'centirydberg',\n",
       "  'centisecond',\n",
       "  'centisiemens',\n",
       "  'centisteradian',\n",
       "  'centistokes',\n",
       "  'centitesla',\n",
       "  'centivolt',\n",
       "  'centivoxel',\n",
       "  'centiwatt',\n",
       "  'centiweber',\n",
       "  'centiyear',\n",
       "  'cerg',\n",
       "  'cg',\n",
       "  'cgs',\n",
       "  'ch',\n",
       "  'chan',\n",
       "  'ck',\n",
       "  'cl',\n",
       "  'clm',\n",
       "  'clx',\n",
       "  'clyr',\n",
       "  'cm',\n",
       "  'cmag',\n",
       "  'cmin',\n",
       "  'cmol',\n",
       "  'cohm',\n",
       "  'core',\n",
       "  'coulomb',\n",
       "  'count',\n",
       "  'cpc',\n",
       "  'cph',\n",
       "  'cphoton',\n",
       "  'cpix',\n",
       "  'cpixel',\n",
       "  'crad',\n",
       "  'cs',\n",
       "  'csr',\n",
       "  'ct',\n",
       "  'cu',\n",
       "  'curie',\n",
       "  'cvox',\n",
       "  'cvoxel',\n",
       "  'cy',\n",
       "  'cycle',\n",
       "  'cyr',\n",
       "  'd',\n",
       "  'dA',\n",
       "  'dAU',\n",
       "  'dB',\n",
       "  'dBa',\n",
       "  'dC',\n",
       "  'dD',\n",
       "  'dF',\n",
       "  'dG',\n",
       "  'dGal',\n",
       "  'dH',\n",
       "  'dHz',\n",
       "  'dJ',\n",
       "  'dJy',\n",
       "  'dK',\n",
       "  'dL',\n",
       "  'dN',\n",
       "  'dOhm',\n",
       "  'dP',\n",
       "  'dPa',\n",
       "  'dR',\n",
       "  'dRy',\n",
       "  'dS',\n",
       "  'dSt',\n",
       "  'dT',\n",
       "  ...])"
      ]
     },
     "execution_count": 8,
     "metadata": {},
     "output_type": "execute_result"
    }
   ],
   "source": [
    "len(dir(u)), dir(u)"
   ]
  },
  {
   "cell_type": "markdown",
   "metadata": {},
   "source": [
    "### 单位运算"
   ]
  },
  {
   "cell_type": "code",
   "execution_count": 10,
   "metadata": {},
   "outputs": [
    {
     "data": {
      "text/latex": [
       "$\\mathrm{\\frac{m^{2}\\,kg}{s}}$"
      ],
      "text/plain": [
       "Unit(\"kg m2 / s\")"
      ]
     },
     "execution_count": 10,
     "metadata": {},
     "output_type": "execute_result"
    }
   ],
   "source": [
    "S = u.m * (u.kg * u.m / u.s)\n",
    "S"
   ]
  },
  {
   "cell_type": "markdown",
   "metadata": {},
   "source": [
    "#### 不同的单位可能有相同的量纲"
   ]
  },
  {
   "cell_type": "code",
   "execution_count": 11,
   "metadata": {},
   "outputs": [
    {
     "data": {
      "text/plain": [
       "[Unit(\"J s\"),\n",
       " Unit(\"s2 W\"),\n",
       " Unit(\"10000 kg St\"),\n",
       " Unit(\"1e+07 erg s\"),\n",
       " Unit(\"4.58742e+17 Ry s\"),\n",
       " Unit(\"6.24151e+18 eV s\"),\n",
       " Unit(\"3.31917e-29 Bol s2\"),\n",
       " Unit(\"2.61233e-27 s2 solLum\"),\n",
       " Unit(\"10 m3 P\")]"
      ]
     },
     "execution_count": 11,
     "metadata": {},
     "output_type": "execute_result"
    }
   ],
   "source": [
    "S.compose()    # 或 u.parsec"
   ]
  },
  {
   "cell_type": "code",
   "execution_count": 5,
   "metadata": {},
   "outputs": [
    {
     "data": {
      "text/plain": [
       "[Unit(\"eV\"),\n",
       " Unit(\"1.60218e-19 J\"),\n",
       " Unit(\"1.60218e-12 erg\"),\n",
       " Unit(\"0.0734986 Ry\")]"
      ]
     },
     "execution_count": 5,
     "metadata": {},
     "output_type": "execute_result"
    }
   ],
   "source": [
    "u.eV.compose()"
   ]
  },
  {
   "cell_type": "code",
   "execution_count": 15,
   "metadata": {},
   "outputs": [
    {
     "data": {
      "text/plain": [
       "[Unit(\"deg\"),\n",
       " Unit(\"0.00277778 cycle\"),\n",
       " Unit(\"0.0174533 rad\"),\n",
       " Unit(\"0.0666667 hourangle\"),\n",
       " Unit(\"60 arcmin\"),\n",
       " Unit(\"3600 arcsec\"),\n",
       " Unit(\"3.6e+06 mas\"),\n",
       " Unit(\"3.6e+09 uas\")]"
      ]
     },
     "execution_count": 15,
     "metadata": {},
     "output_type": "execute_result"
    }
   ],
   "source": [
    "u.degree.compose()"
   ]
  },
  {
   "cell_type": "markdown",
   "metadata": {},
   "source": [
    "### 带单位量 ([Quantity](https://docs.astropy.org/en/stable/api/astropy.units.Quantity.html#astropy.units.Quantity))"
   ]
  },
  {
   "cell_type": "code",
   "execution_count": 16,
   "metadata": {},
   "outputs": [
    {
     "data": {
      "text/latex": [
       "$60 \\; \\mathrm{{}^{\\prime}}$"
      ],
      "text/plain": [
       "<Quantity 60. arcmin>"
      ]
     },
     "execution_count": 16,
     "metadata": {},
     "output_type": "execute_result"
    }
   ],
   "source": [
    "q = 60. * u.arcmin\n",
    "q"
   ]
  },
  {
   "cell_type": "code",
   "execution_count": 18,
   "metadata": {},
   "outputs": [],
   "source": [
    "qs = [60., 3600.] * u.arcsec"
   ]
  },
  {
   "cell_type": "markdown",
   "metadata": {},
   "source": [
    "#### 带单位量的转换"
   ]
  },
  {
   "cell_type": "code",
   "execution_count": 20,
   "metadata": {},
   "outputs": [
    {
     "data": {
      "text/latex": [
       "$1 \\; \\mathrm{{}^{\\circ}}$"
      ],
      "text/plain": [
       "<Quantity 1. deg>"
      ]
     },
     "execution_count": 20,
     "metadata": {},
     "output_type": "execute_result"
    }
   ],
   "source": [
    "q.to(u.degree)"
   ]
  },
  {
   "cell_type": "code",
   "execution_count": 21,
   "metadata": {},
   "outputs": [
    {
     "data": {
      "text/latex": [
       "$[0.016666667,~1] \\; \\mathrm{{}^{\\circ}}$"
      ],
      "text/plain": [
       "<Quantity [0.01666667, 1.        ] deg>"
      ]
     },
     "execution_count": 21,
     "metadata": {},
     "output_type": "execute_result"
    }
   ],
   "source": [
    "qs.to(u.deg)"
   ]
  },
  {
   "cell_type": "markdown",
   "metadata": {},
   "source": [
    "#### 对等 ([equivalencies](https://docs.astropy.org/en/stable/units/equivalencies.html#unit-equivalencies)) 转换"
   ]
  },
  {
   "cell_type": "code",
   "execution_count": 25,
   "metadata": {},
   "outputs": [
    {
     "data": {
      "text/latex": [
       "$2.9979246 \\times 10^{14} \\; \\mathrm{Hz}$"
      ],
      "text/plain": [
       "<Quantity 2.99792458e+14 Hz>"
      ]
     },
     "execution_count": 25,
     "metadata": {},
     "output_type": "execute_result"
    }
   ],
   "source": [
    "(1000 * u.nm).to(u.Hz, equivalencies=u.spectral())"
   ]
  },
  {
   "cell_type": "markdown",
   "metadata": {},
   "source": [
    "#### 单位比较"
   ]
  },
  {
   "cell_type": "code",
   "execution_count": 32,
   "metadata": {},
   "outputs": [
    {
     "data": {
      "text/plain": [
       "True"
      ]
     },
     "execution_count": 32,
     "metadata": {},
     "output_type": "execute_result"
    }
   ],
   "source": [
    "u.isclose(1. * u.eV, 1.60218e-19 * u.J)"
   ]
  },
  {
   "cell_type": "markdown",
   "metadata": {},
   "source": [
    "### 单位制"
   ]
  },
  {
   "cell_type": "code",
   "execution_count": 48,
   "metadata": {},
   "outputs": [
    {
     "data": {
      "text/latex": [
       "$\\mathrm{1.6021766 \\times 10^{-12}\\,erg}$"
      ],
      "text/plain": [
       "Unit(\"1.60218e-12 erg\")"
      ]
     },
     "execution_count": 48,
     "metadata": {},
     "output_type": "execute_result"
    }
   ],
   "source": [
    "u.eV.cgs"
   ]
  },
  {
   "cell_type": "markdown",
   "metadata": {},
   "source": [
    "## 常量 [constants](https://docs.astropy.org/en/stable/constants/)"
   ]
  },
  {
   "cell_type": "code",
   "execution_count": 35,
   "metadata": {},
   "outputs": [],
   "source": [
    "from astropy import constants as const"
   ]
  },
  {
   "cell_type": "code",
   "execution_count": 42,
   "metadata": {},
   "outputs": [
    {
     "data": {
      "text/latex": [
       "$2.9979246 \\times 10^{8} \\; \\mathrm{\\frac{m}{s}}$"
      ],
      "text/plain": [
       "<<class 'astropy.constants.codata2018.CODATA2018'> name='Speed of light in vacuum' value=299792458.0 uncertainty=0.0 unit='m / s' reference='CODATA 2018'>"
      ]
     },
     "execution_count": 42,
     "metadata": {},
     "output_type": "execute_result"
    }
   ],
   "source": [
    "const.c"
   ]
  },
  {
   "cell_type": "code",
   "execution_count": 44,
   "metadata": {},
   "outputs": [
    {
     "data": {
      "text/latex": [
       "$1.0545718 \\times 10^{-34} \\; \\mathrm{J\\,s}$"
      ],
      "text/plain": [
       "<<class 'astropy.constants.codata2018.CODATA2018'> name='Reduced Planck constant' value=1.0545718176461565e-34 uncertainty=0.0 unit='J s' reference='CODATA 2018'>"
      ]
     },
     "execution_count": 44,
     "metadata": {},
     "output_type": "execute_result"
    }
   ],
   "source": [
    "const.hbar"
   ]
  },
  {
   "cell_type": "code",
   "execution_count": 37,
   "metadata": {},
   "outputs": [
    {
     "name": "stdout",
     "output_type": "stream",
     "text": [
      "  Name   = Speed of light in vacuum\n",
      "  Value  = 299792458.0\n",
      "  Uncertainty  = 0.0\n",
      "  Unit  = m / s\n",
      "  Reference = CODATA 2018\n"
     ]
    }
   ],
   "source": [
    "print(const.c)"
   ]
  },
  {
   "cell_type": "code",
   "execution_count": 45,
   "metadata": {},
   "outputs": [
    {
     "name": "stdout",
     "output_type": "stream",
     "text": [
      "  Name   = Reduced Planck constant\n",
      "  Value  = 1.0545718176461565e-34\n",
      "  Uncertainty  = 0.0\n",
      "  Unit  = J s\n",
      "  Reference = CODATA 2018\n"
     ]
    }
   ],
   "source": [
    "print(const.hbar)"
   ]
  },
  {
   "cell_type": "code",
   "execution_count": 49,
   "metadata": {},
   "outputs": [],
   "source": [
    "from astropy import uncertainty as unc"
   ]
  },
  {
   "cell_type": "code",
   "execution_count": 52,
   "metadata": {},
   "outputs": [],
   "source": [
    "a = unc.normal([1, 2]*u.kpc, std=[30, 50]*u.pc, n_samples=100000)"
   ]
  },
  {
   "cell_type": "code",
   "execution_count": 53,
   "metadata": {},
   "outputs": [
    {
     "data": {
      "text/latex": [
       "$[[0.98624839,~1.0069146,~0.98833558,~\\dots,~1.0085975,~0.99859758,~1.0055127],~\n",
       " [2.0567719,~2.0100243,~2.0469267,~\\dots,~2.1000254,~2.0719391,~1.8923054]] \\; \\mathrm{kpc}, \\; n_{\\rm samp}=100000$"
      ],
      "text/plain": [
       "<QuantityDistribution [[0.98624839, 1.00691459, 0.98833558, ..., 1.00859749,\n",
       "            0.99859758, 1.00551271],\n",
       "           [2.05677194, 2.01002434, 2.04692673, ..., 2.10002539,\n",
       "            2.07193914, 1.89230543]] kpc with n_samples=100000>"
      ]
     },
     "execution_count": 53,
     "metadata": {},
     "output_type": "execute_result"
    }
   ],
   "source": [
    "a"
   ]
  },
  {
   "cell_type": "code",
   "execution_count": 54,
   "metadata": {},
   "outputs": [
    {
     "data": {
      "text/latex": [
       "$[1.000091,~1.9999276] \\; \\mathrm{kpc}$"
      ],
      "text/plain": [
       "<Quantity [1.00009096, 1.99992762] kpc>"
      ]
     },
     "execution_count": 54,
     "metadata": {},
     "output_type": "execute_result"
    }
   ],
   "source": [
    "a.pdf_mean()"
   ]
  },
  {
   "cell_type": "code",
   "execution_count": 55,
   "metadata": {},
   "outputs": [
    {
     "data": {
      "text/latex": [
       "$[0.02990904,~0.050050283] \\; \\mathrm{kpc}$"
      ],
      "text/plain": [
       "<Quantity [0.02990904, 0.05005028] kpc>"
      ]
     },
     "execution_count": 55,
     "metadata": {},
     "output_type": "execute_result"
    }
   ],
   "source": [
    "a.pdf_std()"
   ]
  },
  {
   "cell_type": "markdown",
   "metadata": {},
   "source": [
    "# 表格 [Table](https://docs.astropy.org/en/stable/table/)"
   ]
  },
  {
   "cell_type": "code",
   "execution_count": 57,
   "metadata": {},
   "outputs": [],
   "source": [
    "from astropy.table import Table"
   ]
  },
  {
   "cell_type": "code",
   "execution_count": 60,
   "metadata": {},
   "outputs": [
    {
     "data": {
      "text/html": [
       "<i>Table length=4</i>\n",
       "<table id=\"table140308377897088\" class=\"table-striped table-bordered table-condensed\">\n",
       "<thead><tr><th>col0</th><th>A</th><th>B</th><th>C</th><th>D</th><th>E</th><th>F</th></tr></thead>\n",
       "<thead><tr><th>int64</th><th>float64</th><th>str10</th><th>float64</th><th>int64</th><th>str5</th><th>str3</th></tr></thead>\n",
       "<tr><td>0</td><td>1.0</td><td>2013-01-02</td><td>1.0</td><td>3</td><td>test</td><td>foo</td></tr>\n",
       "<tr><td>1</td><td>1.0</td><td>2013-01-02</td><td>1.0</td><td>3</td><td>train</td><td>foo</td></tr>\n",
       "<tr><td>2</td><td>1.0</td><td>2013-01-02</td><td>1.0</td><td>3</td><td>test</td><td>foo</td></tr>\n",
       "<tr><td>3</td><td>1.0</td><td>2013-01-02</td><td>1.0</td><td>3</td><td>train</td><td>foo</td></tr>\n",
       "</table>"
      ],
      "text/plain": [
       "<Table length=4>\n",
       " col0    A        B         C      D     E    F  \n",
       "int64 float64   str10    float64 int64  str5 str3\n",
       "----- ------- ---------- ------- ----- ----- ----\n",
       "    0     1.0 2013-01-02     1.0     3  test  foo\n",
       "    1     1.0 2013-01-02     1.0     3 train  foo\n",
       "    2     1.0 2013-01-02     1.0     3  test  foo\n",
       "    3     1.0 2013-01-02     1.0     3 train  foo"
      ]
     },
     "execution_count": 60,
     "metadata": {},
     "output_type": "execute_result"
    }
   ],
   "source": [
    "t = Table.read('../data/AF.csv')\n",
    "t"
   ]
  },
  {
   "cell_type": "code",
   "execution_count": 61,
   "metadata": {},
   "outputs": [
    {
     "data": {
      "text/html": [
       "<i>Row index=0</i>\n",
       "<table id=\"table140308377897088\">\n",
       "<thead><tr><th>col0</th><th>A</th><th>B</th><th>C</th><th>D</th><th>E</th><th>F</th></tr></thead>\n",
       "<thead><tr><th>int64</th><th>float64</th><th>str10</th><th>float64</th><th>int64</th><th>str5</th><th>str3</th></tr></thead>\n",
       "<tr><td>0</td><td>1.0</td><td>2013-01-02</td><td>1.0</td><td>3</td><td>test</td><td>foo</td></tr>\n",
       "</table>"
      ],
      "text/plain": [
       "<Row index=0>\n",
       " col0    A        B         C      D    E    F  \n",
       "int64 float64   str10    float64 int64 str5 str3\n",
       "----- ------- ---------- ------- ----- ---- ----\n",
       "    0     1.0 2013-01-02     1.0     3 test  foo"
      ]
     },
     "execution_count": 61,
     "metadata": {},
     "output_type": "execute_result"
    }
   ],
   "source": [
    "t[0]"
   ]
  },
  {
   "cell_type": "code",
   "execution_count": 62,
   "metadata": {},
   "outputs": [
    {
     "data": {
      "text/html": [
       "&lt;Column name=&apos;A&apos; dtype=&apos;float64&apos; length=4&gt;\n",
       "<table>\n",
       "<tr><td>1.0</td></tr>\n",
       "<tr><td>1.0</td></tr>\n",
       "<tr><td>1.0</td></tr>\n",
       "<tr><td>1.0</td></tr>\n",
       "</table>"
      ],
      "text/plain": [
       "<Column name='A' dtype='float64' length=4>\n",
       "1.0\n",
       "1.0\n",
       "1.0\n",
       "1.0"
      ]
     },
     "execution_count": 62,
     "metadata": {},
     "output_type": "execute_result"
    }
   ],
   "source": [
    "t['A']"
   ]
  },
  {
   "cell_type": "code",
   "execution_count": 64,
   "metadata": {},
   "outputs": [],
   "source": [
    "t['A'] *= u.s\n",
    "t"
   ]
  },
  {
   "cell_type": "code",
   "execution_count": 65,
   "metadata": {},
   "outputs": [
    {
     "data": {
      "text/html": [
       "<div>\n",
       "<style scoped>\n",
       "    .dataframe tbody tr th:only-of-type {\n",
       "        vertical-align: middle;\n",
       "    }\n",
       "\n",
       "    .dataframe tbody tr th {\n",
       "        vertical-align: top;\n",
       "    }\n",
       "\n",
       "    .dataframe thead th {\n",
       "        text-align: right;\n",
       "    }\n",
       "</style>\n",
       "<table border=\"1\" class=\"dataframe\">\n",
       "  <thead>\n",
       "    <tr style=\"text-align: right;\">\n",
       "      <th></th>\n",
       "      <th>col0</th>\n",
       "      <th>A</th>\n",
       "      <th>B</th>\n",
       "      <th>C</th>\n",
       "      <th>D</th>\n",
       "      <th>E</th>\n",
       "      <th>F</th>\n",
       "    </tr>\n",
       "  </thead>\n",
       "  <tbody>\n",
       "    <tr>\n",
       "      <th>0</th>\n",
       "      <td>0</td>\n",
       "      <td>1.0</td>\n",
       "      <td>2013-01-02</td>\n",
       "      <td>1.0</td>\n",
       "      <td>3</td>\n",
       "      <td>test</td>\n",
       "      <td>foo</td>\n",
       "    </tr>\n",
       "    <tr>\n",
       "      <th>1</th>\n",
       "      <td>1</td>\n",
       "      <td>1.0</td>\n",
       "      <td>2013-01-02</td>\n",
       "      <td>1.0</td>\n",
       "      <td>3</td>\n",
       "      <td>train</td>\n",
       "      <td>foo</td>\n",
       "    </tr>\n",
       "    <tr>\n",
       "      <th>2</th>\n",
       "      <td>2</td>\n",
       "      <td>1.0</td>\n",
       "      <td>2013-01-02</td>\n",
       "      <td>1.0</td>\n",
       "      <td>3</td>\n",
       "      <td>test</td>\n",
       "      <td>foo</td>\n",
       "    </tr>\n",
       "    <tr>\n",
       "      <th>3</th>\n",
       "      <td>3</td>\n",
       "      <td>1.0</td>\n",
       "      <td>2013-01-02</td>\n",
       "      <td>1.0</td>\n",
       "      <td>3</td>\n",
       "      <td>train</td>\n",
       "      <td>foo</td>\n",
       "    </tr>\n",
       "  </tbody>\n",
       "</table>\n",
       "</div>"
      ],
      "text/plain": [
       "   col0    A           B    C  D      E    F\n",
       "0     0  1.0  2013-01-02  1.0  3   test  foo\n",
       "1     1  1.0  2013-01-02  1.0  3  train  foo\n",
       "2     2  1.0  2013-01-02  1.0  3   test  foo\n",
       "3     3  1.0  2013-01-02  1.0  3  train  foo"
      ]
     },
     "execution_count": 65,
     "metadata": {},
     "output_type": "execute_result"
    }
   ],
   "source": [
    "df = t.to_pandas()\n",
    "df"
   ]
  }
 ],
 "metadata": {
  "jupytext": {
   "formats": "py,ipynb"
  },
  "kernelspec": {
   "display_name": "Python 3.8.3 64-bit",
   "language": "python",
   "name": "python38364bita14c50cabb94433e97ec307454e1294b"
  },
  "language_info": {
   "codemirror_mode": {
    "name": "ipython",
    "version": 3
   },
   "file_extension": ".py",
   "mimetype": "text/x-python",
   "name": "python",
   "nbconvert_exporter": "python",
   "pygments_lexer": "ipython3",
   "version": "3.8.3"
  },
  "toc-autonumbering": false,
  "toc-showcode": false,
  "toc-showmarkdowntxt": false,
  "toc-showtags": false
 },
 "nbformat": 4,
 "nbformat_minor": 4
}